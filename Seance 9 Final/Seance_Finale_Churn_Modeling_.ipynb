{
 "cells": [
  {
   "cell_type": "code",
   "execution_count": null,
   "metadata": {},
   "outputs": [],
   "source": []
  },
  {
   "cell_type": "code",
   "execution_count": 1,
   "metadata": {
    "id": "B4bUvAhBoebn"
   },
   "outputs": [],
   "source": [
    "# Importation des librairies\n",
    "import numpy as np  # Utilisé pour les opérations numériques\n",
    "import matplotlib.pyplot as plt # Utilisé pour le tracé de graphiques\n",
    "import pandas as pd # Utilisé pour la manipulation de données\n",
    "from sklearn.metrics import accuracy_score, precision_score, recall_score, f1_score, confusion_matrix # Utilisé pour l'évaluation du modèle\n",
    "from sklearn.model_selection import cross_val_score # Utilisé pour la validation croisée"
   ]
  },
  {
   "cell_type": "code",
   "execution_count": 2,
   "metadata": {
    "colab": {
     "base_uri": "https://localhost:8080/",
     "height": 423
    },
    "id": "rUpLVxENo-cG",
    "outputId": "cdd31f42-c771-40a6-c66a-23e146820c99"
   },
   "outputs": [
    {
     "data": {
      "text/html": [
       "<div>\n",
       "<style scoped>\n",
       "    .dataframe tbody tr th:only-of-type {\n",
       "        vertical-align: middle;\n",
       "    }\n",
       "\n",
       "    .dataframe tbody tr th {\n",
       "        vertical-align: top;\n",
       "    }\n",
       "\n",
       "    .dataframe thead th {\n",
       "        text-align: right;\n",
       "    }\n",
       "</style>\n",
       "<table border=\"1\" class=\"dataframe\">\n",
       "  <thead>\n",
       "    <tr style=\"text-align: right;\">\n",
       "      <th></th>\n",
       "      <th>RowNumber</th>\n",
       "      <th>CustomerId</th>\n",
       "      <th>Surname</th>\n",
       "      <th>CreditScore</th>\n",
       "      <th>Geography</th>\n",
       "      <th>Gender</th>\n",
       "      <th>Age</th>\n",
       "      <th>Tenure</th>\n",
       "      <th>Balance</th>\n",
       "      <th>NumOfProducts</th>\n",
       "      <th>HasCrCard</th>\n",
       "      <th>IsActiveMember</th>\n",
       "      <th>EstimatedSalary</th>\n",
       "      <th>Exited</th>\n",
       "    </tr>\n",
       "  </thead>\n",
       "  <tbody>\n",
       "    <tr>\n",
       "      <th>0</th>\n",
       "      <td>1</td>\n",
       "      <td>15634602</td>\n",
       "      <td>Hargrave</td>\n",
       "      <td>619</td>\n",
       "      <td>France</td>\n",
       "      <td>Female</td>\n",
       "      <td>42</td>\n",
       "      <td>2</td>\n",
       "      <td>0.00</td>\n",
       "      <td>1</td>\n",
       "      <td>1</td>\n",
       "      <td>1</td>\n",
       "      <td>101348.88</td>\n",
       "      <td>1</td>\n",
       "    </tr>\n",
       "    <tr>\n",
       "      <th>1</th>\n",
       "      <td>2</td>\n",
       "      <td>15647311</td>\n",
       "      <td>Hill</td>\n",
       "      <td>608</td>\n",
       "      <td>Spain</td>\n",
       "      <td>Female</td>\n",
       "      <td>41</td>\n",
       "      <td>1</td>\n",
       "      <td>83807.86</td>\n",
       "      <td>1</td>\n",
       "      <td>0</td>\n",
       "      <td>1</td>\n",
       "      <td>112542.58</td>\n",
       "      <td>0</td>\n",
       "    </tr>\n",
       "    <tr>\n",
       "      <th>2</th>\n",
       "      <td>3</td>\n",
       "      <td>15619304</td>\n",
       "      <td>Onio</td>\n",
       "      <td>502</td>\n",
       "      <td>France</td>\n",
       "      <td>Female</td>\n",
       "      <td>42</td>\n",
       "      <td>8</td>\n",
       "      <td>159660.80</td>\n",
       "      <td>3</td>\n",
       "      <td>1</td>\n",
       "      <td>0</td>\n",
       "      <td>113931.57</td>\n",
       "      <td>1</td>\n",
       "    </tr>\n",
       "    <tr>\n",
       "      <th>3</th>\n",
       "      <td>4</td>\n",
       "      <td>15701354</td>\n",
       "      <td>Boni</td>\n",
       "      <td>699</td>\n",
       "      <td>France</td>\n",
       "      <td>Female</td>\n",
       "      <td>39</td>\n",
       "      <td>1</td>\n",
       "      <td>0.00</td>\n",
       "      <td>2</td>\n",
       "      <td>0</td>\n",
       "      <td>0</td>\n",
       "      <td>93826.63</td>\n",
       "      <td>0</td>\n",
       "    </tr>\n",
       "    <tr>\n",
       "      <th>4</th>\n",
       "      <td>5</td>\n",
       "      <td>15737888</td>\n",
       "      <td>Mitchell</td>\n",
       "      <td>850</td>\n",
       "      <td>Spain</td>\n",
       "      <td>Female</td>\n",
       "      <td>43</td>\n",
       "      <td>2</td>\n",
       "      <td>125510.82</td>\n",
       "      <td>1</td>\n",
       "      <td>1</td>\n",
       "      <td>1</td>\n",
       "      <td>79084.10</td>\n",
       "      <td>0</td>\n",
       "    </tr>\n",
       "    <tr>\n",
       "      <th>...</th>\n",
       "      <td>...</td>\n",
       "      <td>...</td>\n",
       "      <td>...</td>\n",
       "      <td>...</td>\n",
       "      <td>...</td>\n",
       "      <td>...</td>\n",
       "      <td>...</td>\n",
       "      <td>...</td>\n",
       "      <td>...</td>\n",
       "      <td>...</td>\n",
       "      <td>...</td>\n",
       "      <td>...</td>\n",
       "      <td>...</td>\n",
       "      <td>...</td>\n",
       "    </tr>\n",
       "    <tr>\n",
       "      <th>9995</th>\n",
       "      <td>9996</td>\n",
       "      <td>15606229</td>\n",
       "      <td>Obijiaku</td>\n",
       "      <td>771</td>\n",
       "      <td>France</td>\n",
       "      <td>Male</td>\n",
       "      <td>39</td>\n",
       "      <td>5</td>\n",
       "      <td>0.00</td>\n",
       "      <td>2</td>\n",
       "      <td>1</td>\n",
       "      <td>0</td>\n",
       "      <td>96270.64</td>\n",
       "      <td>0</td>\n",
       "    </tr>\n",
       "    <tr>\n",
       "      <th>9996</th>\n",
       "      <td>9997</td>\n",
       "      <td>15569892</td>\n",
       "      <td>Johnstone</td>\n",
       "      <td>516</td>\n",
       "      <td>France</td>\n",
       "      <td>Male</td>\n",
       "      <td>35</td>\n",
       "      <td>10</td>\n",
       "      <td>57369.61</td>\n",
       "      <td>1</td>\n",
       "      <td>1</td>\n",
       "      <td>1</td>\n",
       "      <td>101699.77</td>\n",
       "      <td>0</td>\n",
       "    </tr>\n",
       "    <tr>\n",
       "      <th>9997</th>\n",
       "      <td>9998</td>\n",
       "      <td>15584532</td>\n",
       "      <td>Liu</td>\n",
       "      <td>709</td>\n",
       "      <td>France</td>\n",
       "      <td>Female</td>\n",
       "      <td>36</td>\n",
       "      <td>7</td>\n",
       "      <td>0.00</td>\n",
       "      <td>1</td>\n",
       "      <td>0</td>\n",
       "      <td>1</td>\n",
       "      <td>42085.58</td>\n",
       "      <td>1</td>\n",
       "    </tr>\n",
       "    <tr>\n",
       "      <th>9998</th>\n",
       "      <td>9999</td>\n",
       "      <td>15682355</td>\n",
       "      <td>Sabbatini</td>\n",
       "      <td>772</td>\n",
       "      <td>Germany</td>\n",
       "      <td>Male</td>\n",
       "      <td>42</td>\n",
       "      <td>3</td>\n",
       "      <td>75075.31</td>\n",
       "      <td>2</td>\n",
       "      <td>1</td>\n",
       "      <td>0</td>\n",
       "      <td>92888.52</td>\n",
       "      <td>1</td>\n",
       "    </tr>\n",
       "    <tr>\n",
       "      <th>9999</th>\n",
       "      <td>10000</td>\n",
       "      <td>15628319</td>\n",
       "      <td>Walker</td>\n",
       "      <td>792</td>\n",
       "      <td>France</td>\n",
       "      <td>Female</td>\n",
       "      <td>28</td>\n",
       "      <td>4</td>\n",
       "      <td>130142.79</td>\n",
       "      <td>1</td>\n",
       "      <td>1</td>\n",
       "      <td>0</td>\n",
       "      <td>38190.78</td>\n",
       "      <td>0</td>\n",
       "    </tr>\n",
       "  </tbody>\n",
       "</table>\n",
       "<p>10000 rows × 14 columns</p>\n",
       "</div>"
      ],
      "text/plain": [
       "      RowNumber  CustomerId    Surname  CreditScore Geography  Gender  Age  \\\n",
       "0             1    15634602   Hargrave          619    France  Female   42   \n",
       "1             2    15647311       Hill          608     Spain  Female   41   \n",
       "2             3    15619304       Onio          502    France  Female   42   \n",
       "3             4    15701354       Boni          699    France  Female   39   \n",
       "4             5    15737888   Mitchell          850     Spain  Female   43   \n",
       "...         ...         ...        ...          ...       ...     ...  ...   \n",
       "9995       9996    15606229   Obijiaku          771    France    Male   39   \n",
       "9996       9997    15569892  Johnstone          516    France    Male   35   \n",
       "9997       9998    15584532        Liu          709    France  Female   36   \n",
       "9998       9999    15682355  Sabbatini          772   Germany    Male   42   \n",
       "9999      10000    15628319     Walker          792    France  Female   28   \n",
       "\n",
       "      Tenure    Balance  NumOfProducts  HasCrCard  IsActiveMember  \\\n",
       "0          2       0.00              1          1               1   \n",
       "1          1   83807.86              1          0               1   \n",
       "2          8  159660.80              3          1               0   \n",
       "3          1       0.00              2          0               0   \n",
       "4          2  125510.82              1          1               1   \n",
       "...      ...        ...            ...        ...             ...   \n",
       "9995       5       0.00              2          1               0   \n",
       "9996      10   57369.61              1          1               1   \n",
       "9997       7       0.00              1          0               1   \n",
       "9998       3   75075.31              2          1               0   \n",
       "9999       4  130142.79              1          1               0   \n",
       "\n",
       "      EstimatedSalary  Exited  \n",
       "0           101348.88       1  \n",
       "1           112542.58       0  \n",
       "2           113931.57       1  \n",
       "3            93826.63       0  \n",
       "4            79084.10       0  \n",
       "...               ...     ...  \n",
       "9995         96270.64       0  \n",
       "9996        101699.77       0  \n",
       "9997         42085.58       1  \n",
       "9998         92888.52       1  \n",
       "9999         38190.78       0  \n",
       "\n",
       "[10000 rows x 14 columns]"
      ]
     },
     "execution_count": 2,
     "metadata": {},
     "output_type": "execute_result"
    }
   ],
   "source": [
    "# Importation du jeu de données\n",
    "dataset = pd.read_csv('C:/Users/Onesime/Documents/Formation en Machine Learning avec Scikit_Learn/Churn_Modelling.csv')  # Importation du jeu de données en utilisant pandas\n",
    "dataset # Affichage du jeu de données"
   ]
  },
  {
   "cell_type": "code",
   "execution_count": 3,
   "metadata": {
    "id": "G4yCR-1rzdJG"
   },
   "outputs": [],
   "source": [
    "dataset['Geography']= dataset['Geography'].replace({'France':0, 'Spain':1, 'Germany':2}) # Remplacement des valeurs catégorielles par des valeurs numériques pour la colonne Geography\n",
    "dataset['Geography']= dataset['Geography'].astype('category') # Conversion de la colonne Geography en type catégoriel\n",
    "dataset['Geography'] = dataset['Geography'].cat.codes # Encodage des valeurs catégorielles\n",
    "dataset['Gender']= dataset['Gender'].replace({'Male':0, 'Female':1}) # Remplacement des valeurs catégorielles par des valeurs numériques pour la colonne Gender\n",
    "dataset['Gender']= dataset['Gender'].astype('category') # Conversion de la colonne Gender en type catégoriel\n",
    "dataset['Gender'] = dataset['Gender'].cat.codes # Encodage des valeurs catégorielles\n"
   ]
  },
  {
   "cell_type": "code",
   "execution_count": 4,
   "metadata": {
    "colab": {
     "base_uri": "https://localhost:8080/",
     "height": 423
    },
    "id": "sXLzHDACq-O4",
    "outputId": "9bfa0430-3e13-4ffc-9616-909868db182f"
   },
   "outputs": [
    {
     "data": {
      "text/html": [
       "<div>\n",
       "<style scoped>\n",
       "    .dataframe tbody tr th:only-of-type {\n",
       "        vertical-align: middle;\n",
       "    }\n",
       "\n",
       "    .dataframe tbody tr th {\n",
       "        vertical-align: top;\n",
       "    }\n",
       "\n",
       "    .dataframe thead th {\n",
       "        text-align: right;\n",
       "    }\n",
       "</style>\n",
       "<table border=\"1\" class=\"dataframe\">\n",
       "  <thead>\n",
       "    <tr style=\"text-align: right;\">\n",
       "      <th></th>\n",
       "      <th>CreditScore</th>\n",
       "      <th>Geography</th>\n",
       "      <th>Gender</th>\n",
       "      <th>Age</th>\n",
       "      <th>Tenure</th>\n",
       "      <th>Balance</th>\n",
       "      <th>NumOfProducts</th>\n",
       "      <th>HasCrCard</th>\n",
       "      <th>IsActiveMember</th>\n",
       "      <th>EstimatedSalary</th>\n",
       "      <th>Exited</th>\n",
       "    </tr>\n",
       "  </thead>\n",
       "  <tbody>\n",
       "    <tr>\n",
       "      <th>0</th>\n",
       "      <td>619</td>\n",
       "      <td>0</td>\n",
       "      <td>1</td>\n",
       "      <td>42</td>\n",
       "      <td>2</td>\n",
       "      <td>0.00</td>\n",
       "      <td>1</td>\n",
       "      <td>1</td>\n",
       "      <td>1</td>\n",
       "      <td>101348.88</td>\n",
       "      <td>1</td>\n",
       "    </tr>\n",
       "    <tr>\n",
       "      <th>1</th>\n",
       "      <td>608</td>\n",
       "      <td>1</td>\n",
       "      <td>1</td>\n",
       "      <td>41</td>\n",
       "      <td>1</td>\n",
       "      <td>83807.86</td>\n",
       "      <td>1</td>\n",
       "      <td>0</td>\n",
       "      <td>1</td>\n",
       "      <td>112542.58</td>\n",
       "      <td>0</td>\n",
       "    </tr>\n",
       "    <tr>\n",
       "      <th>2</th>\n",
       "      <td>502</td>\n",
       "      <td>0</td>\n",
       "      <td>1</td>\n",
       "      <td>42</td>\n",
       "      <td>8</td>\n",
       "      <td>159660.80</td>\n",
       "      <td>3</td>\n",
       "      <td>1</td>\n",
       "      <td>0</td>\n",
       "      <td>113931.57</td>\n",
       "      <td>1</td>\n",
       "    </tr>\n",
       "    <tr>\n",
       "      <th>3</th>\n",
       "      <td>699</td>\n",
       "      <td>0</td>\n",
       "      <td>1</td>\n",
       "      <td>39</td>\n",
       "      <td>1</td>\n",
       "      <td>0.00</td>\n",
       "      <td>2</td>\n",
       "      <td>0</td>\n",
       "      <td>0</td>\n",
       "      <td>93826.63</td>\n",
       "      <td>0</td>\n",
       "    </tr>\n",
       "    <tr>\n",
       "      <th>4</th>\n",
       "      <td>850</td>\n",
       "      <td>1</td>\n",
       "      <td>1</td>\n",
       "      <td>43</td>\n",
       "      <td>2</td>\n",
       "      <td>125510.82</td>\n",
       "      <td>1</td>\n",
       "      <td>1</td>\n",
       "      <td>1</td>\n",
       "      <td>79084.10</td>\n",
       "      <td>0</td>\n",
       "    </tr>\n",
       "    <tr>\n",
       "      <th>...</th>\n",
       "      <td>...</td>\n",
       "      <td>...</td>\n",
       "      <td>...</td>\n",
       "      <td>...</td>\n",
       "      <td>...</td>\n",
       "      <td>...</td>\n",
       "      <td>...</td>\n",
       "      <td>...</td>\n",
       "      <td>...</td>\n",
       "      <td>...</td>\n",
       "      <td>...</td>\n",
       "    </tr>\n",
       "    <tr>\n",
       "      <th>9995</th>\n",
       "      <td>771</td>\n",
       "      <td>0</td>\n",
       "      <td>0</td>\n",
       "      <td>39</td>\n",
       "      <td>5</td>\n",
       "      <td>0.00</td>\n",
       "      <td>2</td>\n",
       "      <td>1</td>\n",
       "      <td>0</td>\n",
       "      <td>96270.64</td>\n",
       "      <td>0</td>\n",
       "    </tr>\n",
       "    <tr>\n",
       "      <th>9996</th>\n",
       "      <td>516</td>\n",
       "      <td>0</td>\n",
       "      <td>0</td>\n",
       "      <td>35</td>\n",
       "      <td>10</td>\n",
       "      <td>57369.61</td>\n",
       "      <td>1</td>\n",
       "      <td>1</td>\n",
       "      <td>1</td>\n",
       "      <td>101699.77</td>\n",
       "      <td>0</td>\n",
       "    </tr>\n",
       "    <tr>\n",
       "      <th>9997</th>\n",
       "      <td>709</td>\n",
       "      <td>0</td>\n",
       "      <td>1</td>\n",
       "      <td>36</td>\n",
       "      <td>7</td>\n",
       "      <td>0.00</td>\n",
       "      <td>1</td>\n",
       "      <td>0</td>\n",
       "      <td>1</td>\n",
       "      <td>42085.58</td>\n",
       "      <td>1</td>\n",
       "    </tr>\n",
       "    <tr>\n",
       "      <th>9998</th>\n",
       "      <td>772</td>\n",
       "      <td>2</td>\n",
       "      <td>0</td>\n",
       "      <td>42</td>\n",
       "      <td>3</td>\n",
       "      <td>75075.31</td>\n",
       "      <td>2</td>\n",
       "      <td>1</td>\n",
       "      <td>0</td>\n",
       "      <td>92888.52</td>\n",
       "      <td>1</td>\n",
       "    </tr>\n",
       "    <tr>\n",
       "      <th>9999</th>\n",
       "      <td>792</td>\n",
       "      <td>0</td>\n",
       "      <td>1</td>\n",
       "      <td>28</td>\n",
       "      <td>4</td>\n",
       "      <td>130142.79</td>\n",
       "      <td>1</td>\n",
       "      <td>1</td>\n",
       "      <td>0</td>\n",
       "      <td>38190.78</td>\n",
       "      <td>0</td>\n",
       "    </tr>\n",
       "  </tbody>\n",
       "</table>\n",
       "<p>10000 rows × 11 columns</p>\n",
       "</div>"
      ],
      "text/plain": [
       "      CreditScore  Geography  Gender  Age  Tenure    Balance  NumOfProducts  \\\n",
       "0             619          0       1   42       2       0.00              1   \n",
       "1             608          1       1   41       1   83807.86              1   \n",
       "2             502          0       1   42       8  159660.80              3   \n",
       "3             699          0       1   39       1       0.00              2   \n",
       "4             850          1       1   43       2  125510.82              1   \n",
       "...           ...        ...     ...  ...     ...        ...            ...   \n",
       "9995          771          0       0   39       5       0.00              2   \n",
       "9996          516          0       0   35      10   57369.61              1   \n",
       "9997          709          0       1   36       7       0.00              1   \n",
       "9998          772          2       0   42       3   75075.31              2   \n",
       "9999          792          0       1   28       4  130142.79              1   \n",
       "\n",
       "      HasCrCard  IsActiveMember  EstimatedSalary  Exited  \n",
       "0             1               1        101348.88       1  \n",
       "1             0               1        112542.58       0  \n",
       "2             1               0        113931.57       1  \n",
       "3             0               0         93826.63       0  \n",
       "4             1               1         79084.10       0  \n",
       "...         ...             ...              ...     ...  \n",
       "9995          1               0         96270.64       0  \n",
       "9996          1               1        101699.77       0  \n",
       "9997          0               1         42085.58       1  \n",
       "9998          1               0         92888.52       1  \n",
       "9999          1               0         38190.78       0  \n",
       "\n",
       "[10000 rows x 11 columns]"
      ]
     },
     "execution_count": 4,
     "metadata": {},
     "output_type": "execute_result"
    }
   ],
   "source": [
    "new_dataset= dataset[['CreditScore','Geography','Gender','Age','Tenure','Balance','NumOfProducts','HasCrCard','IsActiveMember','EstimatedSalary','Exited']] # Sélection de colonnes spécifiques pour le nouveau jeu de données\n",
    "new_dataset # Affichage du nouveau jeu de données"
   ]
  },
  {
   "cell_type": "code",
   "execution_count": 5,
   "metadata": {
    "id": "FqtkzokZrEc_"
   },
   "outputs": [],
   "source": [
    "X= new_dataset.drop(columns=['Exited']) # Séparation des caractéristiques (X) de la variable cible\n",
    "y= dataset['Exited'] # Assignation de la variable cible à y"
   ]
  },
  {
   "cell_type": "code",
   "execution_count": 6,
   "metadata": {
    "id": "wBcfZByRrE0X"
   },
   "outputs": [],
   "source": [
    "X = (X - X.mean()) / X.std() # Standardisation des caractéristiques"
   ]
  },
  {
   "cell_type": "code",
   "execution_count": 7,
   "metadata": {
    "colab": {
     "base_uri": "https://localhost:8080/",
     "height": 423
    },
    "id": "D5F9tyf8rE31",
    "outputId": "c8b88b27-174f-4cf4-8253-32bbe8919e85"
   },
   "outputs": [
    {
     "data": {
      "text/html": [
       "<div>\n",
       "<style scoped>\n",
       "    .dataframe tbody tr th:only-of-type {\n",
       "        vertical-align: middle;\n",
       "    }\n",
       "\n",
       "    .dataframe tbody tr th {\n",
       "        vertical-align: top;\n",
       "    }\n",
       "\n",
       "    .dataframe thead th {\n",
       "        text-align: right;\n",
       "    }\n",
       "</style>\n",
       "<table border=\"1\" class=\"dataframe\">\n",
       "  <thead>\n",
       "    <tr style=\"text-align: right;\">\n",
       "      <th></th>\n",
       "      <th>CreditScore</th>\n",
       "      <th>Geography</th>\n",
       "      <th>Gender</th>\n",
       "      <th>Age</th>\n",
       "      <th>Tenure</th>\n",
       "      <th>Balance</th>\n",
       "      <th>NumOfProducts</th>\n",
       "      <th>HasCrCard</th>\n",
       "      <th>IsActiveMember</th>\n",
       "      <th>EstimatedSalary</th>\n",
       "    </tr>\n",
       "  </thead>\n",
       "  <tbody>\n",
       "    <tr>\n",
       "      <th>0</th>\n",
       "      <td>-0.326205</td>\n",
       "      <td>-0.902541</td>\n",
       "      <td>1.095933</td>\n",
       "      <td>0.293503</td>\n",
       "      <td>-1.041708</td>\n",
       "      <td>-1.225786</td>\n",
       "      <td>-0.911538</td>\n",
       "      <td>0.646059</td>\n",
       "      <td>0.970194</td>\n",
       "      <td>0.021885</td>\n",
       "    </tr>\n",
       "    <tr>\n",
       "      <th>1</th>\n",
       "      <td>-0.440014</td>\n",
       "      <td>0.301650</td>\n",
       "      <td>1.095933</td>\n",
       "      <td>0.198154</td>\n",
       "      <td>-1.387468</td>\n",
       "      <td>0.117344</td>\n",
       "      <td>-0.911538</td>\n",
       "      <td>-1.547691</td>\n",
       "      <td>0.970194</td>\n",
       "      <td>0.216523</td>\n",
       "    </tr>\n",
       "    <tr>\n",
       "      <th>2</th>\n",
       "      <td>-1.536717</td>\n",
       "      <td>-0.902541</td>\n",
       "      <td>1.095933</td>\n",
       "      <td>0.293503</td>\n",
       "      <td>1.032856</td>\n",
       "      <td>1.332987</td>\n",
       "      <td>2.526930</td>\n",
       "      <td>0.646059</td>\n",
       "      <td>-1.030619</td>\n",
       "      <td>0.240675</td>\n",
       "    </tr>\n",
       "    <tr>\n",
       "      <th>3</th>\n",
       "      <td>0.501496</td>\n",
       "      <td>-0.902541</td>\n",
       "      <td>1.095933</td>\n",
       "      <td>0.007456</td>\n",
       "      <td>-1.387468</td>\n",
       "      <td>-1.225786</td>\n",
       "      <td>0.807696</td>\n",
       "      <td>-1.547691</td>\n",
       "      <td>-1.030619</td>\n",
       "      <td>-0.108912</td>\n",
       "    </tr>\n",
       "    <tr>\n",
       "      <th>4</th>\n",
       "      <td>2.063781</td>\n",
       "      <td>0.301650</td>\n",
       "      <td>1.095933</td>\n",
       "      <td>0.388852</td>\n",
       "      <td>-1.041708</td>\n",
       "      <td>0.785689</td>\n",
       "      <td>-0.911538</td>\n",
       "      <td>0.646059</td>\n",
       "      <td>0.970194</td>\n",
       "      <td>-0.365258</td>\n",
       "    </tr>\n",
       "    <tr>\n",
       "      <th>...</th>\n",
       "      <td>...</td>\n",
       "      <td>...</td>\n",
       "      <td>...</td>\n",
       "      <td>...</td>\n",
       "      <td>...</td>\n",
       "      <td>...</td>\n",
       "      <td>...</td>\n",
       "      <td>...</td>\n",
       "      <td>...</td>\n",
       "      <td>...</td>\n",
       "    </tr>\n",
       "    <tr>\n",
       "      <th>9995</th>\n",
       "      <td>1.246426</td>\n",
       "      <td>-0.902541</td>\n",
       "      <td>-0.912374</td>\n",
       "      <td>0.007456</td>\n",
       "      <td>-0.004426</td>\n",
       "      <td>-1.225786</td>\n",
       "      <td>0.807696</td>\n",
       "      <td>0.646059</td>\n",
       "      <td>-1.030619</td>\n",
       "      <td>-0.066416</td>\n",
       "    </tr>\n",
       "    <tr>\n",
       "      <th>9996</th>\n",
       "      <td>-1.391870</td>\n",
       "      <td>-0.902541</td>\n",
       "      <td>-0.912374</td>\n",
       "      <td>-0.373939</td>\n",
       "      <td>1.724377</td>\n",
       "      <td>-0.306363</td>\n",
       "      <td>-0.911538</td>\n",
       "      <td>0.646059</td>\n",
       "      <td>0.970194</td>\n",
       "      <td>0.027987</td>\n",
       "    </tr>\n",
       "    <tr>\n",
       "      <th>9997</th>\n",
       "      <td>0.604958</td>\n",
       "      <td>-0.902541</td>\n",
       "      <td>1.095933</td>\n",
       "      <td>-0.278590</td>\n",
       "      <td>0.687096</td>\n",
       "      <td>-1.225786</td>\n",
       "      <td>-0.911538</td>\n",
       "      <td>-1.547691</td>\n",
       "      <td>0.970194</td>\n",
       "      <td>-1.008593</td>\n",
       "    </tr>\n",
       "    <tr>\n",
       "      <th>9998</th>\n",
       "      <td>1.256772</td>\n",
       "      <td>1.505841</td>\n",
       "      <td>-0.912374</td>\n",
       "      <td>0.293503</td>\n",
       "      <td>-0.695947</td>\n",
       "      <td>-0.022606</td>\n",
       "      <td>0.807696</td>\n",
       "      <td>0.646059</td>\n",
       "      <td>-1.030619</td>\n",
       "      <td>-0.125224</td>\n",
       "    </tr>\n",
       "    <tr>\n",
       "      <th>9999</th>\n",
       "      <td>1.463698</td>\n",
       "      <td>-0.902541</td>\n",
       "      <td>1.095933</td>\n",
       "      <td>-1.041381</td>\n",
       "      <td>-0.350186</td>\n",
       "      <td>0.859922</td>\n",
       "      <td>-0.911538</td>\n",
       "      <td>0.646059</td>\n",
       "      <td>-1.030619</td>\n",
       "      <td>-1.076316</td>\n",
       "    </tr>\n",
       "  </tbody>\n",
       "</table>\n",
       "<p>10000 rows × 10 columns</p>\n",
       "</div>"
      ],
      "text/plain": [
       "      CreditScore  Geography    Gender       Age    Tenure   Balance  \\\n",
       "0       -0.326205  -0.902541  1.095933  0.293503 -1.041708 -1.225786   \n",
       "1       -0.440014   0.301650  1.095933  0.198154 -1.387468  0.117344   \n",
       "2       -1.536717  -0.902541  1.095933  0.293503  1.032856  1.332987   \n",
       "3        0.501496  -0.902541  1.095933  0.007456 -1.387468 -1.225786   \n",
       "4        2.063781   0.301650  1.095933  0.388852 -1.041708  0.785689   \n",
       "...           ...        ...       ...       ...       ...       ...   \n",
       "9995     1.246426  -0.902541 -0.912374  0.007456 -0.004426 -1.225786   \n",
       "9996    -1.391870  -0.902541 -0.912374 -0.373939  1.724377 -0.306363   \n",
       "9997     0.604958  -0.902541  1.095933 -0.278590  0.687096 -1.225786   \n",
       "9998     1.256772   1.505841 -0.912374  0.293503 -0.695947 -0.022606   \n",
       "9999     1.463698  -0.902541  1.095933 -1.041381 -0.350186  0.859922   \n",
       "\n",
       "      NumOfProducts  HasCrCard  IsActiveMember  EstimatedSalary  \n",
       "0         -0.911538   0.646059        0.970194         0.021885  \n",
       "1         -0.911538  -1.547691        0.970194         0.216523  \n",
       "2          2.526930   0.646059       -1.030619         0.240675  \n",
       "3          0.807696  -1.547691       -1.030619        -0.108912  \n",
       "4         -0.911538   0.646059        0.970194        -0.365258  \n",
       "...             ...        ...             ...              ...  \n",
       "9995       0.807696   0.646059       -1.030619        -0.066416  \n",
       "9996      -0.911538   0.646059        0.970194         0.027987  \n",
       "9997      -0.911538  -1.547691        0.970194        -1.008593  \n",
       "9998       0.807696   0.646059       -1.030619        -0.125224  \n",
       "9999      -0.911538   0.646059       -1.030619        -1.076316  \n",
       "\n",
       "[10000 rows x 10 columns]"
      ]
     },
     "execution_count": 7,
     "metadata": {},
     "output_type": "execute_result"
    }
   ],
   "source": [
    "X"
   ]
  },
  {
   "cell_type": "code",
   "execution_count": null,
   "metadata": {},
   "outputs": [],
   "source": []
  },
  {
   "cell_type": "code",
   "execution_count": 8,
   "metadata": {
    "id": "q0CkR186oqth"
   },
   "outputs": [],
   "source": [
    "# Division du jeu de données en ensemble d'entraînement et ensemble de test\n",
    "from sklearn.model_selection import train_test_split # Importation de train_test_split pour diviser le jeu de données\n",
    "X_train, X_test, y_train, y_test = train_test_split(X, y, test_size = 0.2, random_state = 0) # Division du jeu de données en ensembles d'entraînement et de test"
   ]
  },
  {
   "cell_type": "markdown",
   "metadata": {
    "id": "nh8NwmNz0G0S"
   },
   "source": [
    "# Ajustement de XGBoost à l'ensemble d'entraînement"
   ]
  },
  {
   "cell_type": "code",
   "execution_count": 9,
   "metadata": {
    "colab": {
     "base_uri": "https://localhost:8080/",
     "height": 254
    },
    "id": "QXkX1RF-z-ii",
    "outputId": "f833c2c1-2c7d-4613-b871-ca231adfa523"
   },
   "outputs": [
    {
     "data": {
      "text/html": [
       "<style>#sk-container-id-1 {color: black;background-color: white;}#sk-container-id-1 pre{padding: 0;}#sk-container-id-1 div.sk-toggleable {background-color: white;}#sk-container-id-1 label.sk-toggleable__label {cursor: pointer;display: block;width: 100%;margin-bottom: 0;padding: 0.3em;box-sizing: border-box;text-align: center;}#sk-container-id-1 label.sk-toggleable__label-arrow:before {content: \"▸\";float: left;margin-right: 0.25em;color: #696969;}#sk-container-id-1 label.sk-toggleable__label-arrow:hover:before {color: black;}#sk-container-id-1 div.sk-estimator:hover label.sk-toggleable__label-arrow:before {color: black;}#sk-container-id-1 div.sk-toggleable__content {max-height: 0;max-width: 0;overflow: hidden;text-align: left;background-color: #f0f8ff;}#sk-container-id-1 div.sk-toggleable__content pre {margin: 0.2em;color: black;border-radius: 0.25em;background-color: #f0f8ff;}#sk-container-id-1 input.sk-toggleable__control:checked~div.sk-toggleable__content {max-height: 200px;max-width: 100%;overflow: auto;}#sk-container-id-1 input.sk-toggleable__control:checked~label.sk-toggleable__label-arrow:before {content: \"▾\";}#sk-container-id-1 div.sk-estimator input.sk-toggleable__control:checked~label.sk-toggleable__label {background-color: #d4ebff;}#sk-container-id-1 div.sk-label input.sk-toggleable__control:checked~label.sk-toggleable__label {background-color: #d4ebff;}#sk-container-id-1 input.sk-hidden--visually {border: 0;clip: rect(1px 1px 1px 1px);clip: rect(1px, 1px, 1px, 1px);height: 1px;margin: -1px;overflow: hidden;padding: 0;position: absolute;width: 1px;}#sk-container-id-1 div.sk-estimator {font-family: monospace;background-color: #f0f8ff;border: 1px dotted black;border-radius: 0.25em;box-sizing: border-box;margin-bottom: 0.5em;}#sk-container-id-1 div.sk-estimator:hover {background-color: #d4ebff;}#sk-container-id-1 div.sk-parallel-item::after {content: \"\";width: 100%;border-bottom: 1px solid gray;flex-grow: 1;}#sk-container-id-1 div.sk-label:hover label.sk-toggleable__label {background-color: #d4ebff;}#sk-container-id-1 div.sk-serial::before {content: \"\";position: absolute;border-left: 1px solid gray;box-sizing: border-box;top: 0;bottom: 0;left: 50%;z-index: 0;}#sk-container-id-1 div.sk-serial {display: flex;flex-direction: column;align-items: center;background-color: white;padding-right: 0.2em;padding-left: 0.2em;position: relative;}#sk-container-id-1 div.sk-item {position: relative;z-index: 1;}#sk-container-id-1 div.sk-parallel {display: flex;align-items: stretch;justify-content: center;background-color: white;position: relative;}#sk-container-id-1 div.sk-item::before, #sk-container-id-1 div.sk-parallel-item::before {content: \"\";position: absolute;border-left: 1px solid gray;box-sizing: border-box;top: 0;bottom: 0;left: 50%;z-index: -1;}#sk-container-id-1 div.sk-parallel-item {display: flex;flex-direction: column;z-index: 1;position: relative;background-color: white;}#sk-container-id-1 div.sk-parallel-item:first-child::after {align-self: flex-end;width: 50%;}#sk-container-id-1 div.sk-parallel-item:last-child::after {align-self: flex-start;width: 50%;}#sk-container-id-1 div.sk-parallel-item:only-child::after {width: 0;}#sk-container-id-1 div.sk-dashed-wrapped {border: 1px dashed gray;margin: 0 0.4em 0.5em 0.4em;box-sizing: border-box;padding-bottom: 0.4em;background-color: white;}#sk-container-id-1 div.sk-label label {font-family: monospace;font-weight: bold;display: inline-block;line-height: 1.2em;}#sk-container-id-1 div.sk-label-container {text-align: center;}#sk-container-id-1 div.sk-container {/* jupyter's `normalize.less` sets `[hidden] { display: none; }` but bootstrap.min.css set `[hidden] { display: none !important; }` so we also need the `!important` here to be able to override the default hidden behavior on the sphinx rendered scikit-learn.org. See: https://github.com/scikit-learn/scikit-learn/issues/21755 */display: inline-block !important;position: relative;}#sk-container-id-1 div.sk-text-repr-fallback {display: none;}</style><div id=\"sk-container-id-1\" class=\"sk-top-container\"><div class=\"sk-text-repr-fallback\"><pre>XGBClassifier(base_score=None, booster=None, callbacks=None,\n",
       "              colsample_bylevel=None, colsample_bynode=None,\n",
       "              colsample_bytree=None, device=None, early_stopping_rounds=None,\n",
       "              enable_categorical=False, eval_metric=None, feature_types=None,\n",
       "              gamma=None, grow_policy=None, importance_type=None,\n",
       "              interaction_constraints=None, learning_rate=None, max_bin=None,\n",
       "              max_cat_threshold=None, max_cat_to_onehot=None,\n",
       "              max_delta_step=None, max_depth=None, max_leaves=None,\n",
       "              min_child_weight=None, missing=nan, monotone_constraints=None,\n",
       "              multi_strategy=None, n_estimators=None, n_jobs=None,\n",
       "              num_parallel_tree=None, random_state=None, ...)</pre><b>In a Jupyter environment, please rerun this cell to show the HTML representation or trust the notebook. <br />On GitHub, the HTML representation is unable to render, please try loading this page with nbviewer.org.</b></div><div class=\"sk-container\" hidden><div class=\"sk-item\"><div class=\"sk-estimator sk-toggleable\"><input class=\"sk-toggleable__control sk-hidden--visually\" id=\"sk-estimator-id-1\" type=\"checkbox\" checked><label for=\"sk-estimator-id-1\" class=\"sk-toggleable__label sk-toggleable__label-arrow\">XGBClassifier</label><div class=\"sk-toggleable__content\"><pre>XGBClassifier(base_score=None, booster=None, callbacks=None,\n",
       "              colsample_bylevel=None, colsample_bynode=None,\n",
       "              colsample_bytree=None, device=None, early_stopping_rounds=None,\n",
       "              enable_categorical=False, eval_metric=None, feature_types=None,\n",
       "              gamma=None, grow_policy=None, importance_type=None,\n",
       "              interaction_constraints=None, learning_rate=None, max_bin=None,\n",
       "              max_cat_threshold=None, max_cat_to_onehot=None,\n",
       "              max_delta_step=None, max_depth=None, max_leaves=None,\n",
       "              min_child_weight=None, missing=nan, monotone_constraints=None,\n",
       "              multi_strategy=None, n_estimators=None, n_jobs=None,\n",
       "              num_parallel_tree=None, random_state=None, ...)</pre></div></div></div></div></div>"
      ],
      "text/plain": [
       "XGBClassifier(base_score=None, booster=None, callbacks=None,\n",
       "              colsample_bylevel=None, colsample_bynode=None,\n",
       "              colsample_bytree=None, device=None, early_stopping_rounds=None,\n",
       "              enable_categorical=False, eval_metric=None, feature_types=None,\n",
       "              gamma=None, grow_policy=None, importance_type=None,\n",
       "              interaction_constraints=None, learning_rate=None, max_bin=None,\n",
       "              max_cat_threshold=None, max_cat_to_onehot=None,\n",
       "              max_delta_step=None, max_depth=None, max_leaves=None,\n",
       "              min_child_weight=None, missing=nan, monotone_constraints=None,\n",
       "              multi_strategy=None, n_estimators=None, n_jobs=None,\n",
       "              num_parallel_tree=None, random_state=None, ...)"
      ]
     },
     "execution_count": 9,
     "metadata": {},
     "output_type": "execute_result"
    }
   ],
   "source": [
    "from xgboost import XGBClassifier # Importation du classificateur XGBoost\n",
    "\n",
    "classifier = XGBClassifier() # Création d'une instance du classificateur\n",
    "\n",
    "classifier.fit(X_train, y_train) # Ajustement du classificateur aux données d'entraînement\n"
   ]
  },
  {
   "cell_type": "code",
   "execution_count": 10,
   "metadata": {
    "id": "X7YseyQTz-uc"
   },
   "outputs": [
    {
     "data": {
      "text/plain": [
       "array([1, 0, 0, ..., 0, 0, 0])"
      ]
     },
     "execution_count": 10,
     "metadata": {},
     "output_type": "execute_result"
    }
   ],
   "source": [
    "# Prédiction des résultats de l'ensemble de test\n",
    "y_pred = classifier.predict(X_test) # Prédiction de la variable cible pour l'ensemble de test\n",
    "y_pred "
   ]
  },
  {
   "cell_type": "code",
   "execution_count": 11,
   "metadata": {},
   "outputs": [],
   "source": [
    "#!pip install librarie"
   ]
  },
  {
   "cell_type": "code",
   "execution_count": null,
   "metadata": {},
   "outputs": [],
   "source": []
  },
  {
   "cell_type": "markdown",
   "metadata": {
    "id": "uR3vfqtV0Ta7"
   },
   "source": [
    "# Création de la matrice de confusion"
   ]
  },
  {
   "cell_type": "code",
   "execution_count": 12,
   "metadata": {
    "colab": {
     "base_uri": "https://localhost:8080/"
    },
    "id": "9edY-oXk0O6d",
    "outputId": "79feca71-5da4-4e36-bad8-721f87a9f2a3"
   },
   "outputs": [
    {
     "data": {
      "text/plain": [
       "array([[1491,  104],\n",
       "       [ 192,  213]], dtype=int64)"
      ]
     },
     "execution_count": 12,
     "metadata": {},
     "output_type": "execute_result"
    }
   ],
   "source": [
    "from sklearn.metrics import confusion_matrix # Importation de confusion_matrix pour l'évaluation du modèle\n",
    "\n",
    "cm = confusion_matrix(y_test, y_pred) # Création de la matrice de confusion\n",
    "\n",
    "cm # Affichage de la matrice de confusion"
   ]
  },
  {
   "cell_type": "markdown",
   "metadata": {
    "id": "Sbfa-vXQ0WV2"
   },
   "source": [
    "# Calculer les métriques"
   ]
  },
  {
   "cell_type": "code",
   "execution_count": 15,
   "metadata": {
    "id": "CGFDOhYK0O92"
   },
   "outputs": [],
   "source": [
    "accuracy = accuracy_score(y_test, y_pred) # Calcul de la précision\n",
    "precision = precision_score(y_test, y_pred) # Calcul de la précision\n",
    "recall = recall_score(y_test, y_pred) # Calcul du rappel\n",
    "f1 = f1_score(y_test, y_pred) # Calcul du score F1\n",
    "confusion_mat = confusion_matrix(y_test, y_pred) # Création de la matrice de confusion\n"
   ]
  },
  {
   "cell_type": "code",
   "execution_count": 16,
   "metadata": {
    "colab": {
     "base_uri": "https://localhost:8080/"
    },
    "id": "wCwuVDkb0ZWt",
    "outputId": "61863ebf-50ca-4fb1-979a-98b7dccce68e"
   },
   "outputs": [
    {
     "name": "stdout",
     "output_type": "stream",
     "text": [
      "Accuracy: 0.852\n",
      "Precision: 0.6719242902208202\n",
      "Recall: 0.5259259259259259\n",
      "F1-score: 0.590027700831025\n",
      "Confusion matrix:\n",
      " [[1491  104]\n",
      " [ 192  213]]\n"
     ]
    }
   ],
   "source": [
    "print(\"Accuracy:\", accuracy) # Affichage de la précision\n",
    "print(\"Precision:\", precision) # Affichage de la précision\n",
    "print(\"Recall:\", recall) # Affichage du rappel\n",
    "print(\"F1-score:\", f1) # Affichage du score F1\n",
    "print(\"Confusion matrix:\\n\", confusion_mat) # Affichage de la matrice de confusion\n"
   ]
  },
  {
   "cell_type": "markdown",
   "metadata": {
    "id": "JBHW3CbWsZS-"
   },
   "source": [
    "#Cross-Validation"
   ]
  },
  {
   "cell_type": "code",
   "execution_count": 20,
   "metadata": {
    "colab": {
     "base_uri": "https://localhost:8080/"
    },
    "id": "Yw0HNhFFoqzT",
    "outputId": "6ad529f8-7a63-43e7-b906-f58ffc612861"
   },
   "outputs": [
    {
     "data": {
      "text/plain": [
       "0.854625"
      ]
     },
     "execution_count": 20,
     "metadata": {},
     "output_type": "execute_result"
    }
   ],
   "source": [
    "# Applying k-Fold Cross Validation\n",
    "from sklearn.model_selection import cross_val_score\n",
    "accuracies = cross_val_score(estimator = classifier, X = X_train, y = y_train, cv = 50)\n",
    "accuracies.mean()\n",
    "#accuracies.std()"
   ]
  },
  {
   "cell_type": "markdown",
   "metadata": {},
   "source": [
    "# Théorie sur l’Équilibrage de Données en Machine Learning : Random Over-Sampling vs SMOTE\n",
    "\n",
    "*L’équilibrage de données* est une étape clé en Machine Learning, surtout lorsque l’on travaille avec des jeux de données déséquilibrés. Ces déséquilibres se produisent souvent dans des tâches de classification, où certaines classes sont significativement sous-représentées par rapport à d'autres (par exemple, dans la détection de fraudes ou le diagnostic de maladies rares). Pour pallier ce problème, il existe des méthodes telles que le *Random Over-Sampling* et le *SMOTE (Synthetic Minority Over-sampling Technique)*. Ces deux approches visent à rééquilibrer les classes minoritaires, mais elles diffèrent dans leur manière d'y parvenir.\n",
    "\n",
    "#### 1. *Random Over-Sampling (ROS)* :\n",
    "Le *Random Over-Sampling* est une méthode simple et intuitive. Elle consiste à dupliquer aléatoirement des exemples de la classe minoritaire afin d'augmenter sa proportion dans le dataset. Cela signifie que certains points de données sont simplement répétés plusieurs fois jusqu'à ce que la classe minoritaire atteigne une fréquence comparable à celle de la classe majoritaire.\n",
    "\n",
    "- *Avantages* :\n",
    "  - Facile à implémenter et rapide à exécuter.\n",
    "  - Aucune nouvelle donnée synthétique n'est générée, ce qui évite le risque de créer des informations incorrectes.\n",
    "\n",
    "- *Inconvénients* :\n",
    "  - Augmente la taille du dataset, ce qui peut entraîner un risque de *surapprentissage (overfitting)*, car le modèle pourrait mémoriser des exemples dupliqués au lieu d'apprendre des motifs généralisables.\n",
    "  - Ne produit aucune nouvelle information, les exemples ajoutés étant des copies exactes des instances existantes.\n",
    "\n",
    "#### 2. *SMOTE (Synthetic Minority Over-sampling Technique)* :\n",
    "Le *SMOTE* est une méthode plus sophistiquée qui génère artificiellement de nouveaux exemples pour la classe minoritaire en interpolant entre des exemples réels de cette classe. Pour chaque exemple minoritaire sélectionné, SMOTE crée de nouvelles instances en générant des points de données interpolés qui sont des combinaisons linéaires des voisins proches dans l’espace de caractéristiques.\n",
    "\n",
    "- *Avantages* :\n",
    "  - En générant de nouveaux exemples synthétiques, SMOTE réduit le risque de surapprentissage par rapport au Random Over-Sampling, car il introduit de la variabilité dans les données de la classe minoritaire.\n",
    "  - Les nouveaux points de données synthétiques créent une frontière plus représentative entre les classes, aidant à une meilleure généralisation du modèle.\n",
    "\n",
    "- *Inconvénients* :\n",
    "  - Risque de générer des exemples moins fiables ou irréalistes, surtout si les données sont complexes ou bruitées.\n",
    "  - Peut être plus coûteux en termes de calcul, car il nécessite une étape supplémentaire de génération de données synthétiques.\n",
    "\n",
    "#### 3. *Comparaison en résumé* :\n",
    "- *Random Over-Sampling* duplique simplement les exemples existants de la classe minoritaire, ce qui est rapide mais peut causer du surapprentissage.\n",
    "- *SMOTE* génère de nouvelles instances synthétiques en interpolant entre les exemples minoritaires, ce qui est plus sophistiqué et permet de mieux généraliser, mais cela peut introduire des exemples artificiels qui ne reflètent pas parfaitement la réalité.\n",
    "\n",
    "#### Conclusion :\n",
    "Le choix entre Random Over-Sampling et SMOTE dépend du type de données et des exigences du modèle. Si le risque de surapprentissage est élevé et que l’on souhaite une meilleure généralisation, SMOTE est généralement préféré. En revanche, si l'on cherche une solution rapide et simple sans ajout de complexité, le Random Over-Sampling peut suffire.\n"
   ]
  },
  {
   "cell_type": "code",
   "execution_count": 50,
   "metadata": {
    "colab": {
     "base_uri": "https://localhost:8080/",
     "height": 423
    },
    "id": "6k5irJM4uK2S",
    "outputId": "eeda97e3-c562-452b-94a4-e0b4248c34e3"
   },
   "outputs": [
    {
     "data": {
      "text/html": [
       "<div>\n",
       "<style scoped>\n",
       "    .dataframe tbody tr th:only-of-type {\n",
       "        vertical-align: middle;\n",
       "    }\n",
       "\n",
       "    .dataframe tbody tr th {\n",
       "        vertical-align: top;\n",
       "    }\n",
       "\n",
       "    .dataframe thead th {\n",
       "        text-align: right;\n",
       "    }\n",
       "</style>\n",
       "<table border=\"1\" class=\"dataframe\">\n",
       "  <thead>\n",
       "    <tr style=\"text-align: right;\">\n",
       "      <th></th>\n",
       "      <th>CreditScore</th>\n",
       "      <th>Geography</th>\n",
       "      <th>Gender</th>\n",
       "      <th>Age</th>\n",
       "      <th>Tenure</th>\n",
       "      <th>Balance</th>\n",
       "      <th>NumOfProducts</th>\n",
       "      <th>HasCrCard</th>\n",
       "      <th>IsActiveMember</th>\n",
       "      <th>EstimatedSalary</th>\n",
       "      <th>Exited</th>\n",
       "    </tr>\n",
       "  </thead>\n",
       "  <tbody>\n",
       "    <tr>\n",
       "      <th>0</th>\n",
       "      <td>619</td>\n",
       "      <td>0</td>\n",
       "      <td>1</td>\n",
       "      <td>42</td>\n",
       "      <td>2</td>\n",
       "      <td>0.00</td>\n",
       "      <td>1</td>\n",
       "      <td>1</td>\n",
       "      <td>1</td>\n",
       "      <td>101348.88</td>\n",
       "      <td>1</td>\n",
       "    </tr>\n",
       "    <tr>\n",
       "      <th>1</th>\n",
       "      <td>608</td>\n",
       "      <td>1</td>\n",
       "      <td>1</td>\n",
       "      <td>41</td>\n",
       "      <td>1</td>\n",
       "      <td>83807.86</td>\n",
       "      <td>1</td>\n",
       "      <td>0</td>\n",
       "      <td>1</td>\n",
       "      <td>112542.58</td>\n",
       "      <td>0</td>\n",
       "    </tr>\n",
       "    <tr>\n",
       "      <th>2</th>\n",
       "      <td>502</td>\n",
       "      <td>0</td>\n",
       "      <td>1</td>\n",
       "      <td>42</td>\n",
       "      <td>8</td>\n",
       "      <td>159660.80</td>\n",
       "      <td>3</td>\n",
       "      <td>1</td>\n",
       "      <td>0</td>\n",
       "      <td>113931.57</td>\n",
       "      <td>1</td>\n",
       "    </tr>\n",
       "    <tr>\n",
       "      <th>3</th>\n",
       "      <td>699</td>\n",
       "      <td>0</td>\n",
       "      <td>1</td>\n",
       "      <td>39</td>\n",
       "      <td>1</td>\n",
       "      <td>0.00</td>\n",
       "      <td>2</td>\n",
       "      <td>0</td>\n",
       "      <td>0</td>\n",
       "      <td>93826.63</td>\n",
       "      <td>0</td>\n",
       "    </tr>\n",
       "    <tr>\n",
       "      <th>4</th>\n",
       "      <td>850</td>\n",
       "      <td>1</td>\n",
       "      <td>1</td>\n",
       "      <td>43</td>\n",
       "      <td>2</td>\n",
       "      <td>125510.82</td>\n",
       "      <td>1</td>\n",
       "      <td>1</td>\n",
       "      <td>1</td>\n",
       "      <td>79084.10</td>\n",
       "      <td>0</td>\n",
       "    </tr>\n",
       "    <tr>\n",
       "      <th>...</th>\n",
       "      <td>...</td>\n",
       "      <td>...</td>\n",
       "      <td>...</td>\n",
       "      <td>...</td>\n",
       "      <td>...</td>\n",
       "      <td>...</td>\n",
       "      <td>...</td>\n",
       "      <td>...</td>\n",
       "      <td>...</td>\n",
       "      <td>...</td>\n",
       "      <td>...</td>\n",
       "    </tr>\n",
       "    <tr>\n",
       "      <th>9995</th>\n",
       "      <td>771</td>\n",
       "      <td>0</td>\n",
       "      <td>0</td>\n",
       "      <td>39</td>\n",
       "      <td>5</td>\n",
       "      <td>0.00</td>\n",
       "      <td>2</td>\n",
       "      <td>1</td>\n",
       "      <td>0</td>\n",
       "      <td>96270.64</td>\n",
       "      <td>0</td>\n",
       "    </tr>\n",
       "    <tr>\n",
       "      <th>9996</th>\n",
       "      <td>516</td>\n",
       "      <td>0</td>\n",
       "      <td>0</td>\n",
       "      <td>35</td>\n",
       "      <td>10</td>\n",
       "      <td>57369.61</td>\n",
       "      <td>1</td>\n",
       "      <td>1</td>\n",
       "      <td>1</td>\n",
       "      <td>101699.77</td>\n",
       "      <td>0</td>\n",
       "    </tr>\n",
       "    <tr>\n",
       "      <th>9997</th>\n",
       "      <td>709</td>\n",
       "      <td>0</td>\n",
       "      <td>1</td>\n",
       "      <td>36</td>\n",
       "      <td>7</td>\n",
       "      <td>0.00</td>\n",
       "      <td>1</td>\n",
       "      <td>0</td>\n",
       "      <td>1</td>\n",
       "      <td>42085.58</td>\n",
       "      <td>1</td>\n",
       "    </tr>\n",
       "    <tr>\n",
       "      <th>9998</th>\n",
       "      <td>772</td>\n",
       "      <td>2</td>\n",
       "      <td>0</td>\n",
       "      <td>42</td>\n",
       "      <td>3</td>\n",
       "      <td>75075.31</td>\n",
       "      <td>2</td>\n",
       "      <td>1</td>\n",
       "      <td>0</td>\n",
       "      <td>92888.52</td>\n",
       "      <td>1</td>\n",
       "    </tr>\n",
       "    <tr>\n",
       "      <th>9999</th>\n",
       "      <td>792</td>\n",
       "      <td>0</td>\n",
       "      <td>1</td>\n",
       "      <td>28</td>\n",
       "      <td>4</td>\n",
       "      <td>130142.79</td>\n",
       "      <td>1</td>\n",
       "      <td>1</td>\n",
       "      <td>0</td>\n",
       "      <td>38190.78</td>\n",
       "      <td>0</td>\n",
       "    </tr>\n",
       "  </tbody>\n",
       "</table>\n",
       "<p>10000 rows × 11 columns</p>\n",
       "</div>"
      ],
      "text/plain": [
       "      CreditScore  Geography  Gender  Age  Tenure    Balance  NumOfProducts  \\\n",
       "0             619          0       1   42       2       0.00              1   \n",
       "1             608          1       1   41       1   83807.86              1   \n",
       "2             502          0       1   42       8  159660.80              3   \n",
       "3             699          0       1   39       1       0.00              2   \n",
       "4             850          1       1   43       2  125510.82              1   \n",
       "...           ...        ...     ...  ...     ...        ...            ...   \n",
       "9995          771          0       0   39       5       0.00              2   \n",
       "9996          516          0       0   35      10   57369.61              1   \n",
       "9997          709          0       1   36       7       0.00              1   \n",
       "9998          772          2       0   42       3   75075.31              2   \n",
       "9999          792          0       1   28       4  130142.79              1   \n",
       "\n",
       "      HasCrCard  IsActiveMember  EstimatedSalary  Exited  \n",
       "0             1               1        101348.88       1  \n",
       "1             0               1        112542.58       0  \n",
       "2             1               0        113931.57       1  \n",
       "3             0               0         93826.63       0  \n",
       "4             1               1         79084.10       0  \n",
       "...         ...             ...              ...     ...  \n",
       "9995          1               0         96270.64       0  \n",
       "9996          1               1        101699.77       0  \n",
       "9997          0               1         42085.58       1  \n",
       "9998          1               0         92888.52       1  \n",
       "9999          1               0         38190.78       0  \n",
       "\n",
       "[10000 rows x 11 columns]"
      ]
     },
     "execution_count": 50,
     "metadata": {},
     "output_type": "execute_result"
    }
   ],
   "source": [
    "new_dataset2= dataset[['CreditScore','Geography','Gender','Age','Tenure','Balance','NumOfProducts','HasCrCard','IsActiveMember','EstimatedSalary','Exited']]\n",
    "new_dataset2"
   ]
  },
  {
   "cell_type": "code",
   "execution_count": 51,
   "metadata": {
    "colab": {
     "base_uri": "https://localhost:8080/"
    },
    "id": "E0NRyVSjv3Pu",
    "outputId": "0e72ea93-0e36-411b-a547-774856445dfe"
   },
   "outputs": [
    {
     "data": {
      "text/plain": [
       "(10000, 11)"
      ]
     },
     "execution_count": 51,
     "metadata": {},
     "output_type": "execute_result"
    }
   ],
   "source": [
    "new_dataset2.shape"
   ]
  },
  {
   "cell_type": "code",
   "execution_count": 52,
   "metadata": {
    "colab": {
     "base_uri": "https://localhost:8080/",
     "height": 178
    },
    "id": "XA0SWqlnv3Yc",
    "outputId": "0d6254d5-a882-44a0-b4e4-7c732fa3f5be"
   },
   "outputs": [
    {
     "data": {
      "text/plain": [
       "0    7963\n",
       "1    2037\n",
       "Name: Exited, dtype: int64"
      ]
     },
     "execution_count": 52,
     "metadata": {},
     "output_type": "execute_result"
    }
   ],
   "source": [
    "new_dataset2.Exited.value_counts()"
   ]
  },
  {
   "cell_type": "code",
   "execution_count": 53,
   "metadata": {
    "id": "lyJEf1bQv3bt"
   },
   "outputs": [],
   "source": [
    "X= new_dataset2.drop(columns=['Exited'])\n",
    "y= new_dataset2['Exited']"
   ]
  },
  {
   "cell_type": "code",
   "execution_count": 54,
   "metadata": {
    "id": "e2DlSWCT1O4P"
   },
   "outputs": [],
   "source": [
    "X = (X - X.mean()) / X.std() # Standardisation des caractéristiques"
   ]
  },
  {
   "cell_type": "code",
   "execution_count": 55,
   "metadata": {
    "colab": {
     "base_uri": "https://localhost:8080/",
     "height": 423
    },
    "id": "Kn1Sdc27v3eh",
    "outputId": "849a6876-b05a-4f08-fed1-08f6da0dd596"
   },
   "outputs": [
    {
     "data": {
      "text/html": [
       "<div>\n",
       "<style scoped>\n",
       "    .dataframe tbody tr th:only-of-type {\n",
       "        vertical-align: middle;\n",
       "    }\n",
       "\n",
       "    .dataframe tbody tr th {\n",
       "        vertical-align: top;\n",
       "    }\n",
       "\n",
       "    .dataframe thead th {\n",
       "        text-align: right;\n",
       "    }\n",
       "</style>\n",
       "<table border=\"1\" class=\"dataframe\">\n",
       "  <thead>\n",
       "    <tr style=\"text-align: right;\">\n",
       "      <th></th>\n",
       "      <th>CreditScore</th>\n",
       "      <th>Geography</th>\n",
       "      <th>Gender</th>\n",
       "      <th>Age</th>\n",
       "      <th>Tenure</th>\n",
       "      <th>Balance</th>\n",
       "      <th>NumOfProducts</th>\n",
       "      <th>HasCrCard</th>\n",
       "      <th>IsActiveMember</th>\n",
       "      <th>EstimatedSalary</th>\n",
       "    </tr>\n",
       "  </thead>\n",
       "  <tbody>\n",
       "    <tr>\n",
       "      <th>0</th>\n",
       "      <td>-0.326205</td>\n",
       "      <td>-0.902541</td>\n",
       "      <td>1.095933</td>\n",
       "      <td>0.293503</td>\n",
       "      <td>-1.041708</td>\n",
       "      <td>-1.225786</td>\n",
       "      <td>-0.911538</td>\n",
       "      <td>0.646059</td>\n",
       "      <td>0.970194</td>\n",
       "      <td>0.021885</td>\n",
       "    </tr>\n",
       "    <tr>\n",
       "      <th>1</th>\n",
       "      <td>-0.440014</td>\n",
       "      <td>0.301650</td>\n",
       "      <td>1.095933</td>\n",
       "      <td>0.198154</td>\n",
       "      <td>-1.387468</td>\n",
       "      <td>0.117344</td>\n",
       "      <td>-0.911538</td>\n",
       "      <td>-1.547691</td>\n",
       "      <td>0.970194</td>\n",
       "      <td>0.216523</td>\n",
       "    </tr>\n",
       "    <tr>\n",
       "      <th>2</th>\n",
       "      <td>-1.536717</td>\n",
       "      <td>-0.902541</td>\n",
       "      <td>1.095933</td>\n",
       "      <td>0.293503</td>\n",
       "      <td>1.032856</td>\n",
       "      <td>1.332987</td>\n",
       "      <td>2.526930</td>\n",
       "      <td>0.646059</td>\n",
       "      <td>-1.030619</td>\n",
       "      <td>0.240675</td>\n",
       "    </tr>\n",
       "    <tr>\n",
       "      <th>3</th>\n",
       "      <td>0.501496</td>\n",
       "      <td>-0.902541</td>\n",
       "      <td>1.095933</td>\n",
       "      <td>0.007456</td>\n",
       "      <td>-1.387468</td>\n",
       "      <td>-1.225786</td>\n",
       "      <td>0.807696</td>\n",
       "      <td>-1.547691</td>\n",
       "      <td>-1.030619</td>\n",
       "      <td>-0.108912</td>\n",
       "    </tr>\n",
       "    <tr>\n",
       "      <th>4</th>\n",
       "      <td>2.063781</td>\n",
       "      <td>0.301650</td>\n",
       "      <td>1.095933</td>\n",
       "      <td>0.388852</td>\n",
       "      <td>-1.041708</td>\n",
       "      <td>0.785689</td>\n",
       "      <td>-0.911538</td>\n",
       "      <td>0.646059</td>\n",
       "      <td>0.970194</td>\n",
       "      <td>-0.365258</td>\n",
       "    </tr>\n",
       "    <tr>\n",
       "      <th>...</th>\n",
       "      <td>...</td>\n",
       "      <td>...</td>\n",
       "      <td>...</td>\n",
       "      <td>...</td>\n",
       "      <td>...</td>\n",
       "      <td>...</td>\n",
       "      <td>...</td>\n",
       "      <td>...</td>\n",
       "      <td>...</td>\n",
       "      <td>...</td>\n",
       "    </tr>\n",
       "    <tr>\n",
       "      <th>9995</th>\n",
       "      <td>1.246426</td>\n",
       "      <td>-0.902541</td>\n",
       "      <td>-0.912374</td>\n",
       "      <td>0.007456</td>\n",
       "      <td>-0.004426</td>\n",
       "      <td>-1.225786</td>\n",
       "      <td>0.807696</td>\n",
       "      <td>0.646059</td>\n",
       "      <td>-1.030619</td>\n",
       "      <td>-0.066416</td>\n",
       "    </tr>\n",
       "    <tr>\n",
       "      <th>9996</th>\n",
       "      <td>-1.391870</td>\n",
       "      <td>-0.902541</td>\n",
       "      <td>-0.912374</td>\n",
       "      <td>-0.373939</td>\n",
       "      <td>1.724377</td>\n",
       "      <td>-0.306363</td>\n",
       "      <td>-0.911538</td>\n",
       "      <td>0.646059</td>\n",
       "      <td>0.970194</td>\n",
       "      <td>0.027987</td>\n",
       "    </tr>\n",
       "    <tr>\n",
       "      <th>9997</th>\n",
       "      <td>0.604958</td>\n",
       "      <td>-0.902541</td>\n",
       "      <td>1.095933</td>\n",
       "      <td>-0.278590</td>\n",
       "      <td>0.687096</td>\n",
       "      <td>-1.225786</td>\n",
       "      <td>-0.911538</td>\n",
       "      <td>-1.547691</td>\n",
       "      <td>0.970194</td>\n",
       "      <td>-1.008593</td>\n",
       "    </tr>\n",
       "    <tr>\n",
       "      <th>9998</th>\n",
       "      <td>1.256772</td>\n",
       "      <td>1.505841</td>\n",
       "      <td>-0.912374</td>\n",
       "      <td>0.293503</td>\n",
       "      <td>-0.695947</td>\n",
       "      <td>-0.022606</td>\n",
       "      <td>0.807696</td>\n",
       "      <td>0.646059</td>\n",
       "      <td>-1.030619</td>\n",
       "      <td>-0.125224</td>\n",
       "    </tr>\n",
       "    <tr>\n",
       "      <th>9999</th>\n",
       "      <td>1.463698</td>\n",
       "      <td>-0.902541</td>\n",
       "      <td>1.095933</td>\n",
       "      <td>-1.041381</td>\n",
       "      <td>-0.350186</td>\n",
       "      <td>0.859922</td>\n",
       "      <td>-0.911538</td>\n",
       "      <td>0.646059</td>\n",
       "      <td>-1.030619</td>\n",
       "      <td>-1.076316</td>\n",
       "    </tr>\n",
       "  </tbody>\n",
       "</table>\n",
       "<p>10000 rows × 10 columns</p>\n",
       "</div>"
      ],
      "text/plain": [
       "      CreditScore  Geography    Gender       Age    Tenure   Balance  \\\n",
       "0       -0.326205  -0.902541  1.095933  0.293503 -1.041708 -1.225786   \n",
       "1       -0.440014   0.301650  1.095933  0.198154 -1.387468  0.117344   \n",
       "2       -1.536717  -0.902541  1.095933  0.293503  1.032856  1.332987   \n",
       "3        0.501496  -0.902541  1.095933  0.007456 -1.387468 -1.225786   \n",
       "4        2.063781   0.301650  1.095933  0.388852 -1.041708  0.785689   \n",
       "...           ...        ...       ...       ...       ...       ...   \n",
       "9995     1.246426  -0.902541 -0.912374  0.007456 -0.004426 -1.225786   \n",
       "9996    -1.391870  -0.902541 -0.912374 -0.373939  1.724377 -0.306363   \n",
       "9997     0.604958  -0.902541  1.095933 -0.278590  0.687096 -1.225786   \n",
       "9998     1.256772   1.505841 -0.912374  0.293503 -0.695947 -0.022606   \n",
       "9999     1.463698  -0.902541  1.095933 -1.041381 -0.350186  0.859922   \n",
       "\n",
       "      NumOfProducts  HasCrCard  IsActiveMember  EstimatedSalary  \n",
       "0         -0.911538   0.646059        0.970194         0.021885  \n",
       "1         -0.911538  -1.547691        0.970194         0.216523  \n",
       "2          2.526930   0.646059       -1.030619         0.240675  \n",
       "3          0.807696  -1.547691       -1.030619        -0.108912  \n",
       "4         -0.911538   0.646059        0.970194        -0.365258  \n",
       "...             ...        ...             ...              ...  \n",
       "9995       0.807696   0.646059       -1.030619        -0.066416  \n",
       "9996      -0.911538   0.646059        0.970194         0.027987  \n",
       "9997      -0.911538  -1.547691        0.970194        -1.008593  \n",
       "9998       0.807696   0.646059       -1.030619        -0.125224  \n",
       "9999      -0.911538   0.646059       -1.030619        -1.076316  \n",
       "\n",
       "[10000 rows x 10 columns]"
      ]
     },
     "execution_count": 55,
     "metadata": {},
     "output_type": "execute_result"
    }
   ],
   "source": [
    "X"
   ]
  },
  {
   "cell_type": "code",
   "execution_count": 56,
   "metadata": {
    "colab": {
     "base_uri": "https://localhost:8080/"
    },
    "id": "fjzaWhVHv3hi",
    "outputId": "e87e7014-7742-4428-ca47-8908bf1a1777"
   },
   "outputs": [
    {
     "name": "stdout",
     "output_type": "stream",
     "text": [
      "Requirement already satisfied: imblearn in c:\\users\\onesime\\anaconda3\\lib\\site-packages (0.0)\n",
      "Requirement already satisfied: imbalanced-learn in c:\\users\\onesime\\anaconda3\\lib\\site-packages (from imblearn) (0.10.1)\n",
      "Requirement already satisfied: numpy>=1.17.3 in c:\\users\\onesime\\anaconda3\\lib\\site-packages (from imbalanced-learn->imblearn) (1.23.5)\n",
      "Requirement already satisfied: threadpoolctl>=2.0.0 in c:\\users\\onesime\\anaconda3\\lib\\site-packages (from imbalanced-learn->imblearn) (2.2.0)\n",
      "Requirement already satisfied: scipy>=1.3.2 in c:\\users\\onesime\\anaconda3\\lib\\site-packages (from imbalanced-learn->imblearn) (1.10.1)\n",
      "Requirement already satisfied: scikit-learn>=1.0.2 in c:\\users\\onesime\\anaconda3\\lib\\site-packages (from imbalanced-learn->imblearn) (1.2.1)\n",
      "Requirement already satisfied: joblib>=1.1.1 in c:\\users\\onesime\\anaconda3\\lib\\site-packages (from imbalanced-learn->imblearn) (1.3.2)\n"
     ]
    }
   ],
   "source": [
    "!pip install imblearn"
   ]
  },
  {
   "cell_type": "code",
   "execution_count": 21,
   "metadata": {
    "id": "TBz7Q4S9xSvV"
   },
   "outputs": [],
   "source": [
    "#from imblearn.over_sampling import RandomOverSampler\n",
    "from imblearn.over_sampling import SMOTE"
   ]
  },
  {
   "cell_type": "code",
   "execution_count": 22,
   "metadata": {
    "id": "eQA0CmEixSyu"
   },
   "outputs": [],
   "source": [
    "smote = SMOTE()\n",
    "\n",
    "X_train_smote, y_train_smote = smote.fit_resample(X, y)\n",
    "\n",
    "#X_train_smote, y__train_sm = smote.fit_resample(X.astype('float'), y)"
   ]
  },
  {
   "cell_type": "code",
   "execution_count": 23,
   "metadata": {
    "colab": {
     "base_uri": "https://localhost:8080/",
     "height": 423
    },
    "id": "-hpgRqHJxS2o",
    "outputId": "e051d16d-b2db-4e4d-e819-382becda7fa8",
    "scrolled": true
   },
   "outputs": [
    {
     "data": {
      "text/html": [
       "<div>\n",
       "<style scoped>\n",
       "    .dataframe tbody tr th:only-of-type {\n",
       "        vertical-align: middle;\n",
       "    }\n",
       "\n",
       "    .dataframe tbody tr th {\n",
       "        vertical-align: top;\n",
       "    }\n",
       "\n",
       "    .dataframe thead th {\n",
       "        text-align: right;\n",
       "    }\n",
       "</style>\n",
       "<table border=\"1\" class=\"dataframe\">\n",
       "  <thead>\n",
       "    <tr style=\"text-align: right;\">\n",
       "      <th></th>\n",
       "      <th>CreditScore</th>\n",
       "      <th>Geography</th>\n",
       "      <th>Gender</th>\n",
       "      <th>Age</th>\n",
       "      <th>Tenure</th>\n",
       "      <th>Balance</th>\n",
       "      <th>NumOfProducts</th>\n",
       "      <th>HasCrCard</th>\n",
       "      <th>IsActiveMember</th>\n",
       "      <th>EstimatedSalary</th>\n",
       "    </tr>\n",
       "  </thead>\n",
       "  <tbody>\n",
       "    <tr>\n",
       "      <th>0</th>\n",
       "      <td>-0.326205</td>\n",
       "      <td>-0.902541</td>\n",
       "      <td>1.095933</td>\n",
       "      <td>0.293503</td>\n",
       "      <td>-1.041708</td>\n",
       "      <td>-1.225786</td>\n",
       "      <td>-0.911538</td>\n",
       "      <td>0.646059</td>\n",
       "      <td>0.970194</td>\n",
       "      <td>0.021885</td>\n",
       "    </tr>\n",
       "    <tr>\n",
       "      <th>1</th>\n",
       "      <td>-0.440014</td>\n",
       "      <td>0.301650</td>\n",
       "      <td>1.095933</td>\n",
       "      <td>0.198154</td>\n",
       "      <td>-1.387468</td>\n",
       "      <td>0.117344</td>\n",
       "      <td>-0.911538</td>\n",
       "      <td>-1.547691</td>\n",
       "      <td>0.970194</td>\n",
       "      <td>0.216523</td>\n",
       "    </tr>\n",
       "    <tr>\n",
       "      <th>2</th>\n",
       "      <td>-1.536717</td>\n",
       "      <td>-0.902541</td>\n",
       "      <td>1.095933</td>\n",
       "      <td>0.293503</td>\n",
       "      <td>1.032856</td>\n",
       "      <td>1.332987</td>\n",
       "      <td>2.526930</td>\n",
       "      <td>0.646059</td>\n",
       "      <td>-1.030619</td>\n",
       "      <td>0.240675</td>\n",
       "    </tr>\n",
       "    <tr>\n",
       "      <th>3</th>\n",
       "      <td>0.501496</td>\n",
       "      <td>-0.902541</td>\n",
       "      <td>1.095933</td>\n",
       "      <td>0.007456</td>\n",
       "      <td>-1.387468</td>\n",
       "      <td>-1.225786</td>\n",
       "      <td>0.807696</td>\n",
       "      <td>-1.547691</td>\n",
       "      <td>-1.030619</td>\n",
       "      <td>-0.108912</td>\n",
       "    </tr>\n",
       "    <tr>\n",
       "      <th>4</th>\n",
       "      <td>2.063781</td>\n",
       "      <td>0.301650</td>\n",
       "      <td>1.095933</td>\n",
       "      <td>0.388852</td>\n",
       "      <td>-1.041708</td>\n",
       "      <td>0.785689</td>\n",
       "      <td>-0.911538</td>\n",
       "      <td>0.646059</td>\n",
       "      <td>0.970194</td>\n",
       "      <td>-0.365258</td>\n",
       "    </tr>\n",
       "    <tr>\n",
       "      <th>...</th>\n",
       "      <td>...</td>\n",
       "      <td>...</td>\n",
       "      <td>...</td>\n",
       "      <td>...</td>\n",
       "      <td>...</td>\n",
       "      <td>...</td>\n",
       "      <td>...</td>\n",
       "      <td>...</td>\n",
       "      <td>...</td>\n",
       "      <td>...</td>\n",
       "    </tr>\n",
       "    <tr>\n",
       "      <th>15921</th>\n",
       "      <td>0.533191</td>\n",
       "      <td>0.301650</td>\n",
       "      <td>1.095933</td>\n",
       "      <td>0.025512</td>\n",
       "      <td>0.827238</td>\n",
       "      <td>-1.225786</td>\n",
       "      <td>0.807696</td>\n",
       "      <td>-1.547691</td>\n",
       "      <td>0.970194</td>\n",
       "      <td>0.506858</td>\n",
       "    </tr>\n",
       "    <tr>\n",
       "      <th>15922</th>\n",
       "      <td>0.419524</td>\n",
       "      <td>-0.902541</td>\n",
       "      <td>1.095933</td>\n",
       "      <td>0.179568</td>\n",
       "      <td>-1.149472</td>\n",
       "      <td>1.226713</td>\n",
       "      <td>1.343538</td>\n",
       "      <td>-1.547691</td>\n",
       "      <td>-1.030619</td>\n",
       "      <td>0.913305</td>\n",
       "    </tr>\n",
       "    <tr>\n",
       "      <th>15923</th>\n",
       "      <td>-0.085166</td>\n",
       "      <td>0.663276</td>\n",
       "      <td>-0.912374</td>\n",
       "      <td>0.627369</td>\n",
       "      <td>0.825188</td>\n",
       "      <td>0.596548</td>\n",
       "      <td>0.807696</td>\n",
       "      <td>0.646059</td>\n",
       "      <td>-1.030619</td>\n",
       "      <td>0.911284</td>\n",
       "    </tr>\n",
       "    <tr>\n",
       "      <th>15924</th>\n",
       "      <td>-0.602310</td>\n",
       "      <td>-0.902541</td>\n",
       "      <td>1.095933</td>\n",
       "      <td>1.193768</td>\n",
       "      <td>-1.149460</td>\n",
       "      <td>0.725702</td>\n",
       "      <td>-0.911538</td>\n",
       "      <td>0.646059</td>\n",
       "      <td>0.970194</td>\n",
       "      <td>-0.820253</td>\n",
       "    </tr>\n",
       "    <tr>\n",
       "      <th>15925</th>\n",
       "      <td>-1.341188</td>\n",
       "      <td>-0.639468</td>\n",
       "      <td>-0.912374</td>\n",
       "      <td>0.990578</td>\n",
       "      <td>0.222183</td>\n",
       "      <td>0.765134</td>\n",
       "      <td>-0.911538</td>\n",
       "      <td>-1.547691</td>\n",
       "      <td>0.970194</td>\n",
       "      <td>0.805605</td>\n",
       "    </tr>\n",
       "  </tbody>\n",
       "</table>\n",
       "<p>15926 rows × 10 columns</p>\n",
       "</div>"
      ],
      "text/plain": [
       "       CreditScore  Geography    Gender       Age    Tenure   Balance  \\\n",
       "0        -0.326205  -0.902541  1.095933  0.293503 -1.041708 -1.225786   \n",
       "1        -0.440014   0.301650  1.095933  0.198154 -1.387468  0.117344   \n",
       "2        -1.536717  -0.902541  1.095933  0.293503  1.032856  1.332987   \n",
       "3         0.501496  -0.902541  1.095933  0.007456 -1.387468 -1.225786   \n",
       "4         2.063781   0.301650  1.095933  0.388852 -1.041708  0.785689   \n",
       "...            ...        ...       ...       ...       ...       ...   \n",
       "15921     0.533191   0.301650  1.095933  0.025512  0.827238 -1.225786   \n",
       "15922     0.419524  -0.902541  1.095933  0.179568 -1.149472  1.226713   \n",
       "15923    -0.085166   0.663276 -0.912374  0.627369  0.825188  0.596548   \n",
       "15924    -0.602310  -0.902541  1.095933  1.193768 -1.149460  0.725702   \n",
       "15925    -1.341188  -0.639468 -0.912374  0.990578  0.222183  0.765134   \n",
       "\n",
       "       NumOfProducts  HasCrCard  IsActiveMember  EstimatedSalary  \n",
       "0          -0.911538   0.646059        0.970194         0.021885  \n",
       "1          -0.911538  -1.547691        0.970194         0.216523  \n",
       "2           2.526930   0.646059       -1.030619         0.240675  \n",
       "3           0.807696  -1.547691       -1.030619        -0.108912  \n",
       "4          -0.911538   0.646059        0.970194        -0.365258  \n",
       "...              ...        ...             ...              ...  \n",
       "15921       0.807696  -1.547691        0.970194         0.506858  \n",
       "15922       1.343538  -1.547691       -1.030619         0.913305  \n",
       "15923       0.807696   0.646059       -1.030619         0.911284  \n",
       "15924      -0.911538   0.646059        0.970194        -0.820253  \n",
       "15925      -0.911538  -1.547691        0.970194         0.805605  \n",
       "\n",
       "[15926 rows x 10 columns]"
      ]
     },
     "execution_count": 23,
     "metadata": {},
     "output_type": "execute_result"
    }
   ],
   "source": [
    "X_train_smote"
   ]
  },
  {
   "cell_type": "code",
   "execution_count": 24,
   "metadata": {
    "colab": {
     "base_uri": "https://localhost:8080/"
    },
    "id": "gaWSh4uNyCU9",
    "outputId": "1c110c94-967f-4220-e211-fcf14f5423da"
   },
   "outputs": [
    {
     "name": "stdout",
     "output_type": "stream",
     "text": [
      "Avant SMOTE : Counter({0: 7963, 1: 2037})\n",
      "Apres SMOTE : Counter({1: 7963, 0: 7963})\n"
     ]
    }
   ],
   "source": [
    "from collections import Counter\n",
    "print(\"Avant SMOTE :\",Counter(y))\n",
    "print(\"Apres SMOTE :\",Counter(y_train_smote))"
   ]
  },
  {
   "cell_type": "code",
   "execution_count": 25,
   "metadata": {
    "id": "W5PYc89HyCYC"
   },
   "outputs": [],
   "source": [
    "# Division du jeu de données en ensemble d'entraînement et ensemble de test\n",
    "from sklearn.model_selection import train_test_split # Importation de train_test_split pour diviser le jeu de données\n",
    "\n",
    "X_train_sm, X_test_sm, y_train_sm, y_test_sm = train_test_split(X_train_smote, y_train_smote, test_size = 0.2, random_state = 0) # Division du jeu de données en ensembles d'entraînement et de test"
   ]
  },
  {
   "cell_type": "code",
   "execution_count": 26,
   "metadata": {
    "colab": {
     "base_uri": "https://localhost:8080/",
     "height": 254
    },
    "id": "61DdecY7yCbJ",
    "outputId": "4b1def35-840f-4b41-e488-65a3e3f0dde2"
   },
   "outputs": [
    {
     "data": {
      "text/html": [
       "<style>#sk-container-id-2 {color: black;background-color: white;}#sk-container-id-2 pre{padding: 0;}#sk-container-id-2 div.sk-toggleable {background-color: white;}#sk-container-id-2 label.sk-toggleable__label {cursor: pointer;display: block;width: 100%;margin-bottom: 0;padding: 0.3em;box-sizing: border-box;text-align: center;}#sk-container-id-2 label.sk-toggleable__label-arrow:before {content: \"▸\";float: left;margin-right: 0.25em;color: #696969;}#sk-container-id-2 label.sk-toggleable__label-arrow:hover:before {color: black;}#sk-container-id-2 div.sk-estimator:hover label.sk-toggleable__label-arrow:before {color: black;}#sk-container-id-2 div.sk-toggleable__content {max-height: 0;max-width: 0;overflow: hidden;text-align: left;background-color: #f0f8ff;}#sk-container-id-2 div.sk-toggleable__content pre {margin: 0.2em;color: black;border-radius: 0.25em;background-color: #f0f8ff;}#sk-container-id-2 input.sk-toggleable__control:checked~div.sk-toggleable__content {max-height: 200px;max-width: 100%;overflow: auto;}#sk-container-id-2 input.sk-toggleable__control:checked~label.sk-toggleable__label-arrow:before {content: \"▾\";}#sk-container-id-2 div.sk-estimator input.sk-toggleable__control:checked~label.sk-toggleable__label {background-color: #d4ebff;}#sk-container-id-2 div.sk-label input.sk-toggleable__control:checked~label.sk-toggleable__label {background-color: #d4ebff;}#sk-container-id-2 input.sk-hidden--visually {border: 0;clip: rect(1px 1px 1px 1px);clip: rect(1px, 1px, 1px, 1px);height: 1px;margin: -1px;overflow: hidden;padding: 0;position: absolute;width: 1px;}#sk-container-id-2 div.sk-estimator {font-family: monospace;background-color: #f0f8ff;border: 1px dotted black;border-radius: 0.25em;box-sizing: border-box;margin-bottom: 0.5em;}#sk-container-id-2 div.sk-estimator:hover {background-color: #d4ebff;}#sk-container-id-2 div.sk-parallel-item::after {content: \"\";width: 100%;border-bottom: 1px solid gray;flex-grow: 1;}#sk-container-id-2 div.sk-label:hover label.sk-toggleable__label {background-color: #d4ebff;}#sk-container-id-2 div.sk-serial::before {content: \"\";position: absolute;border-left: 1px solid gray;box-sizing: border-box;top: 0;bottom: 0;left: 50%;z-index: 0;}#sk-container-id-2 div.sk-serial {display: flex;flex-direction: column;align-items: center;background-color: white;padding-right: 0.2em;padding-left: 0.2em;position: relative;}#sk-container-id-2 div.sk-item {position: relative;z-index: 1;}#sk-container-id-2 div.sk-parallel {display: flex;align-items: stretch;justify-content: center;background-color: white;position: relative;}#sk-container-id-2 div.sk-item::before, #sk-container-id-2 div.sk-parallel-item::before {content: \"\";position: absolute;border-left: 1px solid gray;box-sizing: border-box;top: 0;bottom: 0;left: 50%;z-index: -1;}#sk-container-id-2 div.sk-parallel-item {display: flex;flex-direction: column;z-index: 1;position: relative;background-color: white;}#sk-container-id-2 div.sk-parallel-item:first-child::after {align-self: flex-end;width: 50%;}#sk-container-id-2 div.sk-parallel-item:last-child::after {align-self: flex-start;width: 50%;}#sk-container-id-2 div.sk-parallel-item:only-child::after {width: 0;}#sk-container-id-2 div.sk-dashed-wrapped {border: 1px dashed gray;margin: 0 0.4em 0.5em 0.4em;box-sizing: border-box;padding-bottom: 0.4em;background-color: white;}#sk-container-id-2 div.sk-label label {font-family: monospace;font-weight: bold;display: inline-block;line-height: 1.2em;}#sk-container-id-2 div.sk-label-container {text-align: center;}#sk-container-id-2 div.sk-container {/* jupyter's `normalize.less` sets `[hidden] { display: none; }` but bootstrap.min.css set `[hidden] { display: none !important; }` so we also need the `!important` here to be able to override the default hidden behavior on the sphinx rendered scikit-learn.org. See: https://github.com/scikit-learn/scikit-learn/issues/21755 */display: inline-block !important;position: relative;}#sk-container-id-2 div.sk-text-repr-fallback {display: none;}</style><div id=\"sk-container-id-2\" class=\"sk-top-container\"><div class=\"sk-text-repr-fallback\"><pre>XGBClassifier(base_score=None, booster=None, callbacks=None,\n",
       "              colsample_bylevel=None, colsample_bynode=None,\n",
       "              colsample_bytree=None, device=None, early_stopping_rounds=None,\n",
       "              enable_categorical=False, eval_metric=None, feature_types=None,\n",
       "              gamma=None, grow_policy=None, importance_type=None,\n",
       "              interaction_constraints=None, learning_rate=None, max_bin=None,\n",
       "              max_cat_threshold=None, max_cat_to_onehot=None,\n",
       "              max_delta_step=None, max_depth=None, max_leaves=None,\n",
       "              min_child_weight=None, missing=nan, monotone_constraints=None,\n",
       "              multi_strategy=None, n_estimators=None, n_jobs=None,\n",
       "              num_parallel_tree=None, random_state=None, ...)</pre><b>In a Jupyter environment, please rerun this cell to show the HTML representation or trust the notebook. <br />On GitHub, the HTML representation is unable to render, please try loading this page with nbviewer.org.</b></div><div class=\"sk-container\" hidden><div class=\"sk-item\"><div class=\"sk-estimator sk-toggleable\"><input class=\"sk-toggleable__control sk-hidden--visually\" id=\"sk-estimator-id-2\" type=\"checkbox\" checked><label for=\"sk-estimator-id-2\" class=\"sk-toggleable__label sk-toggleable__label-arrow\">XGBClassifier</label><div class=\"sk-toggleable__content\"><pre>XGBClassifier(base_score=None, booster=None, callbacks=None,\n",
       "              colsample_bylevel=None, colsample_bynode=None,\n",
       "              colsample_bytree=None, device=None, early_stopping_rounds=None,\n",
       "              enable_categorical=False, eval_metric=None, feature_types=None,\n",
       "              gamma=None, grow_policy=None, importance_type=None,\n",
       "              interaction_constraints=None, learning_rate=None, max_bin=None,\n",
       "              max_cat_threshold=None, max_cat_to_onehot=None,\n",
       "              max_delta_step=None, max_depth=None, max_leaves=None,\n",
       "              min_child_weight=None, missing=nan, monotone_constraints=None,\n",
       "              multi_strategy=None, n_estimators=None, n_jobs=None,\n",
       "              num_parallel_tree=None, random_state=None, ...)</pre></div></div></div></div></div>"
      ],
      "text/plain": [
       "XGBClassifier(base_score=None, booster=None, callbacks=None,\n",
       "              colsample_bylevel=None, colsample_bynode=None,\n",
       "              colsample_bytree=None, device=None, early_stopping_rounds=None,\n",
       "              enable_categorical=False, eval_metric=None, feature_types=None,\n",
       "              gamma=None, grow_policy=None, importance_type=None,\n",
       "              interaction_constraints=None, learning_rate=None, max_bin=None,\n",
       "              max_cat_threshold=None, max_cat_to_onehot=None,\n",
       "              max_delta_step=None, max_depth=None, max_leaves=None,\n",
       "              min_child_weight=None, missing=nan, monotone_constraints=None,\n",
       "              multi_strategy=None, n_estimators=None, n_jobs=None,\n",
       "              num_parallel_tree=None, random_state=None, ...)"
      ]
     },
     "execution_count": 26,
     "metadata": {},
     "output_type": "execute_result"
    }
   ],
   "source": [
    "from xgboost import XGBClassifier # Importation du classificateur XGBoost\n",
    "classifier_XGBC = XGBClassifier() # Création d'une instance du classificateur\n",
    "classifier_XGBC.fit(X_train_sm, y_train_sm) # Ajustement du classificateur aux données d'entraînement"
   ]
  },
  {
   "cell_type": "code",
   "execution_count": 27,
   "metadata": {
    "id": "gP9vbyVAyCdv"
   },
   "outputs": [],
   "source": [
    "# Prédiction des résultats de l'ensemble de test\n",
    "y_pred_sm_Xboost = classifier_XGBC.predict(X_test_sm) # Prédiction de la variable cible pour l'ensemble de test"
   ]
  },
  {
   "cell_type": "code",
   "execution_count": 28,
   "metadata": {
    "colab": {
     "base_uri": "https://localhost:8080/"
    },
    "id": "Pmy_EKejyCgm",
    "outputId": "aca77bfe-082b-47a8-fe93-c6409dda49a3"
   },
   "outputs": [
    {
     "data": {
      "text/plain": [
       "array([[1469,  121],\n",
       "       [ 181, 1415]], dtype=int64)"
      ]
     },
     "execution_count": 28,
     "metadata": {},
     "output_type": "execute_result"
    }
   ],
   "source": [
    "from sklearn.metrics import confusion_matrix # Importation de confusion_matrix pour l'évaluation du modèle\n",
    "cm = confusion_matrix(y_test_sm, y_pred_sm_Xboost) # Création de la matrice de confusion\n",
    "cm # Affichage de la matrice de confusion"
   ]
  },
  {
   "cell_type": "code",
   "execution_count": 29,
   "metadata": {
    "id": "B3Lqx6iC2nJK"
   },
   "outputs": [],
   "source": [
    "accuracy = accuracy_score(y_test_sm, y_pred_sm_Xboost) # Calcul de la précision\n",
    "precision = precision_score(y_test_sm, y_pred_sm_Xboost) # Calcul de la précision\n",
    "recall = recall_score(y_test_sm, y_pred_sm_Xboost) # Calcul du rappel\n",
    "f1 = f1_score(y_test_sm, y_pred_sm_Xboost) # Calcul du score F1\n",
    "confusion_mat = confusion_matrix(y_test_sm, y_pred_sm_Xboost) # Création de la matrice de confusion"
   ]
  },
  {
   "cell_type": "code",
   "execution_count": 30,
   "metadata": {
    "colab": {
     "base_uri": "https://localhost:8080/"
    },
    "id": "LOtmtOEP2nMk",
    "outputId": "d1da6f18-f744-4f1f-d0f2-63b5f9678c9e"
   },
   "outputs": [
    {
     "name": "stdout",
     "output_type": "stream",
     "text": [
      "Accuracy: 0.9052102950408035\n",
      "Precision: 0.9212239583333334\n",
      "Recall: 0.8865914786967418\n",
      "F1-score: 0.9035759897828863\n",
      "Confusion matrix:\n",
      " [[1469  121]\n",
      " [ 181 1415]]\n"
     ]
    }
   ],
   "source": [
    "print(\"Accuracy:\", accuracy) # Affichage de la précision\n",
    "print(\"Precision:\", precision) # Affichage de la précision\n",
    "print(\"Recall:\", recall) # Affichage du rappel\n",
    "print(\"F1-score:\", f1) # Affichage du score F1\n",
    "print(\"Confusion matrix:\\n\", confusion_mat) # Affichage de la matrice de confusion"
   ]
  },
  {
   "cell_type": "code",
   "execution_count": 31,
   "metadata": {},
   "outputs": [
    {
     "data": {
      "text/plain": [
       "Index(['CreditScore', 'Geography', 'Gender', 'Age', 'Tenure', 'Balance',\n",
       "       'NumOfProducts', 'HasCrCard', 'IsActiveMember', 'EstimatedSalary'],\n",
       "      dtype='object')"
      ]
     },
     "execution_count": 31,
     "metadata": {},
     "output_type": "execute_result"
    }
   ],
   "source": [
    "X_train_sm.columns"
   ]
  },
  {
   "cell_type": "markdown",
   "metadata": {},
   "source": [
    "# Teste"
   ]
  },
  {
   "cell_type": "code",
   "execution_count": 32,
   "metadata": {},
   "outputs": [
    {
     "data": {
      "text/plain": [
       "array([0])"
      ]
     },
     "execution_count": 32,
     "metadata": {},
     "output_type": "execute_result"
    }
   ],
   "source": [
    "import numpy as np\n",
    "classifier_XGBC.predict([[-0.440014,0.301650,1.095933,0.198154,-1.387468,0.117344,-0.911538,-1.547691,0.970194,-0.911538]])"
   ]
  },
  {
   "cell_type": "markdown",
   "metadata": {},
   "source": [
    "# Théorie sur Pickle et le Déploiement des Modèles de Machine Learning\n",
    "\n",
    "Lorsqu'un modèle de *machine learning* a été formé et validé, l'une des étapes cruciales est son *déploiement* pour qu'il puisse être utilisé en production. Le déploiement implique la transition d'un modèle d'un environnement de développement (où il a été formé et testé) à un environnement où il sera utilisé pour faire des prédictions sur de nouvelles données. Pour cela, les modèles doivent être *sauvegardés* afin d'être réutilisés sans nécessiter une nouvelle formation, ce qui économise du temps et des ressources.\n",
    "\n",
    "C'est là que *Pickle* entre en jeu. Pickle est une bibliothèque standard de Python qui permet de *sérialiser* et *désérialiser* des objets Python, y compris des modèles de machine learning. En termes simples, Pickle transforme un objet Python en un flux de données (ou fichier) que l'on peut stocker, puis charger ultérieurement pour restaurer l'objet dans son état d'origine. Cette technique est particulièrement utile pour le déploiement des modèles.\n",
    "\n",
    "#### 1. *Sérialisation et Désérialisation avec Pickle*\n",
    "\n",
    "- *Sérialisation* : C’est le processus de conversion d’un modèle (ou tout objet Python) en un format de fichier binaire qui peut être enregistré sur le disque. Ce fichier peut ensuite être transporté vers d’autres environnements.\n",
    "  \n",
    "- *Désérialisation* : C’est le processus inverse, consistant à charger un fichier sérialisé et à reconstituer l’objet Python dans son état original.\n",
    "\n",
    "#### 2. *Utilisation de Pickle dans le Déploiement des Modèles de Machine Learning*\n",
    "\n",
    "Dans un flux de travail de machine learning typique, une fois qu’un modèle a été formé et optimisé, il doit être enregistré pour pouvoir être utilisé ultérieurement pour faire des prédictions. Pickle permet de stocker les modèles formés sous forme de fichiers binaires qui peuvent être chargés dans des environnements de production sans besoin de réentraînement.\n",
    "\n",
    "Voici comment *Pickle* s’intègre dans le processus de déploiement des modèles :\n",
    "\n",
    "1. *Enregistrement du modèle* : Après avoir formé le modèle avec des données d'entraînement, on peut utiliser Pickle pour sérialiser le modèle dans un fichier.\n",
    "\n",
    " \n",
    "\n",
    "#### 3. *Avantages de Pickle pour le Déploiement*\n",
    "\n",
    "- *Efficacité* : La sérialisation avec Pickle permet de gagner du temps en évitant de réentraîner le modèle à chaque nouvelle utilisation.\n",
    "  \n",
    "- *Facilité d’utilisation* : Pickle est une bibliothèque native de Python, ce qui la rend facile à utiliser avec tous les objets Python, y compris les modèles de machine learning formés avec des bibliothèques comme Scikit-learn, TensorFlow, ou Keras.\n",
    "  \n",
    "- *Portabilité* : Les modèles peuvent être sérialisés dans un environnement de développement et transportés dans un environnement de production pour faire des prédictions. Pickle permet cette portabilité sans nécessiter de transformation complexe des objets.\n",
    "\n",
    "#### 4. *Limites et Alternatives à Pickle*\n",
    "\n",
    "- *Problèmes de sécurité* : La désérialisation de fichiers Pickle à partir de sources non fiables peut être risquée car elle exécute du code Python lors du chargement. Cela peut ouvrir des vulnérabilités si des fichiers Pickle malveillants sont utilisés.\n",
    "  \n",
    "- *Compatibilité* : Les objets sérialisés avec Pickle dépendent souvent de la version de Python ou des bibliothèques utilisées. Cela signifie qu’un modèle enregistré dans une version de Python peut ne pas fonctionner dans une autre version sans modifications.\n",
    "\n",
    "- *Alternatives* : D’autres méthodes comme *Joblib* (plus efficace pour les grands objets) ou des formats comme *ONNX* et *PMML* permettent aussi de sérialiser des modèles, notamment pour une meilleure compatibilité inter-langages et inter-plateformes.\n",
    "\n",
    "#### 5. *Déploiement des Modèles en Production*\n",
    "\n",
    "Une fois un modèle sérialisé avec Pickle, il peut être intégré dans une application de production, généralement à travers des *API* ou des frameworks de services web tels que Flask, Django, ou FastAPI. Dans ce contexte :\n",
    "\n",
    "- Le modèle Pickle est chargé au démarrage du serveur ou à chaque requête selon le cas d'utilisation.\n",
    "- Le modèle fait des prédictions en réponse à des appels API, et les résultats sont retournés à l’utilisateur ou à un autre service.\n",
    "\n",
    "Voici un exemple de pipeline simple utilisant *Flask* pour servir un modèle Pickle :\n",
    "\n",
    "python\n",
    "from flask import Flask, request, jsonify\n",
    "import pickle\n",
    "\n",
    "app = Flask(__name__)\n",
    "\n",
    "\n",
    "\n",
    "Ce type de configuration est couramment utilisé dans le déploiement de modèles en production dans des applications web, des systèmes embarqués, ou des pipelines de traitement de données automatisés.\n",
    "\n",
    "#### Conclusion\n",
    "\n",
    "*Pickle* joue un rôle fondamental dans la sérialisation et le déploiement des modèles de machine learning. En permettant de sauvegarder et de réutiliser les modèles sans avoir à les réentraîner, il facilite le déploiement et l’intégration des modèles dans des environnements de production. Bien que Pickle soit efficace pour de nombreuses"
   ]
  },
  {
   "cell_type": "code",
   "execution_count": 33,
   "metadata": {},
   "outputs": [],
   "source": [
    "#Pip Install Pickle"
   ]
  },
  {
   "cell_type": "code",
   "execution_count": 69,
   "metadata": {},
   "outputs": [],
   "source": [
    "import pickle"
   ]
  },
  {
   "cell_type": "code",
   "execution_count": 70,
   "metadata": {},
   "outputs": [],
   "source": [
    "pickle.dump(classifier_XGBC, open(\"classifier_XGBC_final.pkl\",\"wb\"))"
   ]
  },
  {
   "cell_type": "code",
   "execution_count": 71,
   "metadata": {},
   "outputs": [],
   "source": [
    "pickled_model=pickle.load(open(\"classifier_XGBC_final.pkl\", \"rb\"))"
   ]
  },
  {
   "cell_type": "code",
   "execution_count": null,
   "metadata": {},
   "outputs": [],
   "source": []
  }
 ],
 "metadata": {
  "colab": {
   "provenance": []
  },
  "kernelspec": {
   "display_name": "Python 3 (ipykernel)",
   "language": "python",
   "name": "python3"
  },
  "language_info": {
   "codemirror_mode": {
    "name": "ipython",
    "version": 3
   },
   "file_extension": ".py",
   "mimetype": "text/x-python",
   "name": "python",
   "nbconvert_exporter": "python",
   "pygments_lexer": "ipython3",
   "version": "3.10.9"
  }
 },
 "nbformat": 4,
 "nbformat_minor": 1
}

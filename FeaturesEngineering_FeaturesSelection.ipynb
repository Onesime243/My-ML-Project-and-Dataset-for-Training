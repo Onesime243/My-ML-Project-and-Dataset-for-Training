{
  "nbformat": 4,
  "nbformat_minor": 0,
  "metadata": {
    "colab": {
      "provenance": []
    },
    "kernelspec": {
      "display_name": "Python 3",
      "name": "python3"
    },
    "language_info": {
      "name": "python"
    }
  },
  "cells": [
    {
      "cell_type": "markdown",
      "metadata": {
        "id": "5enhfiSt2VLx"
      },
      "source": [
        "<center> <h1>Ingénierie des caractéristiques(Features engineering): <br>\n",
        "Features Selection\n",
        "</h1></center>\n",
        "\n",
        "Pour regarder la vidéo du support de cours:\n",
        "https://youtu.be/OTEhvJhismM\n"
      ]
    },
    {
      "cell_type": "markdown",
      "metadata": {
        "id": "_0ZZ2Hwdzez3"
      },
      "source": [
        "<h1> Plan </h1>\n",
        "\n",
        "*\tIntroduction\n",
        "*\tPréparation de l'environnement\n",
        "  *\tPréparation de la base d'image\n",
        "  *\tFonction de classification\n",
        "*\tMéthodes de sélection de caractéristiques\n",
        "  *\tChi2\n",
        "  *\tRecursive Function Elimination (RFE)\n",
        "  *\tRelief\n",
        "  *\tRandom Forest\n",
        "*\tEtude comparative\n",
        "*\tConclusion"
      ]
    },
    {
      "cell_type": "markdown",
      "metadata": {
        "id": "lNs-cVLa0Y3S"
      },
      "source": [
        "<h1>Introduction</h1>\n",
        "La sélection de caractéristiques (features selection) est l’opération permettant de d’extraire intelligemment de la connaissance à partir des données brutes.\n",
        "\n",
        "Objectif:\n",
        "* Améliorer les performances (en termes de rapidité, de puissance de prédiction et de la simplicité du modèle).\n",
        "* Réduire les dimensions et éliminer le bruit.\n",
        "\n",
        "La sélection des caractéristiques est un processus qui choisit un sous-ensemble optimal de caractéristique en fonction d'un critère donné.\n",
        "\n",
        "Objectif de FS: <br>\n",
        "* Supprimer les données non pertinentes,\n",
        "* Augmenter de la précision du modèle d’apprentissage notamment en réduisant les besoins en stockage et les coûts de calcul,\n",
        "* Réduire le nombre de données,\n",
        "* Réduire la complexité de la description du modèle résultant,\n",
        "* Améliorer la compréhension des données et du modèle."
      ]
    },
    {
      "cell_type": "markdown",
      "metadata": {
        "id": "Rh7Maj0p2PHo"
      },
      "source": [
        "<h2> Préparation de l'environnement</h2>\n",
        "\n",
        "Nous allons travailler dans cet atelier avec la base de données Titanic pour tester les opérations de transformation en ingénierie de caractéristiques. Cette base de données contient les informations des voyageurs qui ont embarqué sur le bateau Titanic et qui ont été soit sauvés soit noyés. La base contient  891 enregistrements et 12 features.\n",
        "\n",
        "Cette base est très populaire et utilisée pour tester ce type de traitement.\n",
        "\n",
        "Il faut tout d'abord télécharger le fichier  \"train_Titanic.csv\" et la charger sur votre google drive.\n",
        "Pour télécharger le fichier de caractéristiques et les étiquettes cliquer sur les liens ci-dessous :\n",
        "\n",
        "[Base de données Titanic: ](https://drive.google.com/file/d/1OfyPPBg16sv-8lQHOa6RVDi-i5urLHfj/view?usp=drive_link)\n",
        "\n",
        "Vous pouvez utiliser le même chemin que celui que j'ai utilisé :\n",
        "/content/drive/MyDrive/FeaturesEngineering/\n",
        "- Créer un dossier sur la racine de votre drive \"MyDrive\" et nommé le: \"FeaturesEngineering\"\n",
        "- Copier lee fichiers \"train_Titanic.csv\" dans le dossier \"FeaturesEngineering\""
      ]
    },
    {
      "cell_type": "code",
      "metadata": {
        "id": "az36GUAH63ZL",
        "colab": {
          "base_uri": "https://localhost:8080/"
        },
        "outputId": "fdfed0e4-884c-469d-f4e5-e57fbc528367"
      },
      "source": [
        "import numpy as np\n",
        "\n",
        "from google.colab import drive\n",
        "drive.mount('/content/drive')"
      ],
      "execution_count": null,
      "outputs": [
        {
          "output_type": "stream",
          "name": "stdout",
          "text": [
            "Drive already mounted at /content/drive; to attempt to forcibly remount, call drive.mount(\"/content/drive\", force_remount=True).\n"
          ]
        }
      ]
    },
    {
      "cell_type": "markdown",
      "source": [
        " <h2> Prèparation de la base de données</h2>\n",
        " Nous allons commencer par nettoyer la base afin de supprimer les champs non nécessaires pour notre atelier pour ne garder que 8 caractéristiques en plus des **étiquettes** qui sont dans le champ \"**Survived**\" avec la valeur 1 pour personne sauvée et 0 pour une personne noyée"
      ],
      "metadata": {
        "id": "Osoaj1eyodye"
      }
    },
    {
      "cell_type": "code",
      "source": [
        "import pandas as pd\n",
        "fetauresPath='/content/drive/MyDrive/FeaturesEngineering/'\n",
        "data=pd.read_csv(fetauresPath+'train_Titanic.csv')\n",
        "\n",
        "# Supprimer les colonnes non nécessaire pour la classification\n",
        "data.drop(['PassengerId', 'Name', 'Ticket', 'Cabin'], inplace=True, axis=1)"
      ],
      "metadata": {
        "id": "r3yEzeONrBU-"
      },
      "execution_count": null,
      "outputs": []
    },
    {
      "cell_type": "markdown",
      "source": [
        "<H2> Fonction de classification </h2>\n",
        "\n",
        "Pour la classification, nous allons utiliser l’algorithme SVM avec un kernel RBF. Après chaque traitement, nous allons appeler la fonction Classify qui admet en argument les données et leurs étiquettes.\n",
        "\n",
        "La fonction divise les données en données d’entrainement et de validation, lance l’entrainement et valide le modèle et après affiche le taux de classification l’Accuracy"
      ],
      "metadata": {
        "id": "F-aaEIxKqEKO"
      }
    },
    {
      "cell_type": "code",
      "source": [
        "from sklearn.svm import SVC\n",
        "from sklearn.metrics import accuracy_score, classification_report, confusion_matrix\n",
        "\n",
        "\n",
        "def classify(dataX, labels):\n",
        "  from sklearn.model_selection import train_test_split\n",
        "  X_train, X_test, y_train, y_test = train_test_split(dataX, labels, test_size=0.2, random_state=24)\n",
        "  #print(\"X_train:\", np.array(X_train).shape, \"X_test:\", np.array(X_test).shape)\n",
        "  model = SVC(kernel='rbf', C=1, gamma='auto')\n",
        "  # Lancer l'entrainement\n",
        "  model.fit(X_train, y_train)\n",
        "  # Lancer la prédiction de la base de validation\n",
        "  y_pred = model.predict(X_test)\n",
        "  # Afficher l'accuracy\n",
        "  accuracy= accuracy_score(y_test, y_pred)\n",
        "  print(\"Accuracy:\", accuracy)\n",
        "\n",
        "# Additional metrics\n",
        "  print(\"Classification Report:\\n\", classification_report(y_test, y_pred))\n",
        "  # Retourner l'accuracy\n",
        "  return accuracy"
      ],
      "metadata": {
        "id": "TtwUuV1ApBxX"
      },
      "execution_count": null,
      "outputs": []
    },
    {
      "cell_type": "markdown",
      "source": [
        "<h1> Transformation</H1>\n",
        "<H2> Encodage Unique </h2>\n",
        "L'encodage unique, ou \"Label Encoding\" en anglais, est une technique de prétraitement des données utilisées en apprentissage automatique (machine learning) pour convertir des données catégorielles (ou qualitatives) en données numériques."
      ],
      "metadata": {
        "id": "vQtVFZ35rClq"
      }
    },
    {
      "cell_type": "code",
      "source": [
        "# Convertir la valeur de la colonne sexe au valeur numériques: male=0 et female=1\n",
        "data['Sex']=(data['Sex']=='female').astype('Int32')\n",
        "\n",
        "# Convertir les informations d'embarquement (embarked) aux valeurs numériques\n",
        "# embarked:  Port of Embarkation (C = Cherbourg = 0; Q = Queenstown =1 ; S = Southampton=2)\n",
        "embarked=data['Embarked'].unique().tolist()\n",
        "data['Embarked']=data['Embarked'].apply(lambda x: embarked.index(x))\n",
        "\n",
        "\n",
        "# Créer les étiquettes (labels)\n",
        "y=data.iloc[:,data.columns=='Survived']\n",
        "y=np.ravel(y)\n",
        "# Supprimer la colonne de labels des données et les Copier dans X\n",
        "X=data.drop(['Survived'], axis=1, inplace=False)\n",
        "# Afficher l'entête de X\n",
        "X.head()"
      ],
      "metadata": {
        "colab": {
          "base_uri": "https://localhost:8080/",
          "height": 206
        },
        "id": "W2k-gg2wnMYf",
        "outputId": "19ca91b2-344f-4c3c-b434-da2c7eb637d4"
      },
      "execution_count": null,
      "outputs": [
        {
          "output_type": "execute_result",
          "data": {
            "text/plain": [
              "   Pclass  Sex   Age  SibSp  Parch     Fare  Embarked\n",
              "0       3    0  22.0      1      0   7.2500         0\n",
              "1       1    1  38.0      1      0  71.2833         1\n",
              "2       3    1  26.0      0      0   7.9250         0\n",
              "3       1    1  35.0      1      0  53.1000         0\n",
              "4       3    0  35.0      0      0   8.0500         0"
            ],
            "text/html": [
              "\n",
              "  <div id=\"df-73bd1a11-ccf1-471c-8927-83908ee39f41\" class=\"colab-df-container\">\n",
              "    <div>\n",
              "<style scoped>\n",
              "    .dataframe tbody tr th:only-of-type {\n",
              "        vertical-align: middle;\n",
              "    }\n",
              "\n",
              "    .dataframe tbody tr th {\n",
              "        vertical-align: top;\n",
              "    }\n",
              "\n",
              "    .dataframe thead th {\n",
              "        text-align: right;\n",
              "    }\n",
              "</style>\n",
              "<table border=\"1\" class=\"dataframe\">\n",
              "  <thead>\n",
              "    <tr style=\"text-align: right;\">\n",
              "      <th></th>\n",
              "      <th>Pclass</th>\n",
              "      <th>Sex</th>\n",
              "      <th>Age</th>\n",
              "      <th>SibSp</th>\n",
              "      <th>Parch</th>\n",
              "      <th>Fare</th>\n",
              "      <th>Embarked</th>\n",
              "    </tr>\n",
              "  </thead>\n",
              "  <tbody>\n",
              "    <tr>\n",
              "      <th>0</th>\n",
              "      <td>3</td>\n",
              "      <td>0</td>\n",
              "      <td>22.0</td>\n",
              "      <td>1</td>\n",
              "      <td>0</td>\n",
              "      <td>7.2500</td>\n",
              "      <td>0</td>\n",
              "    </tr>\n",
              "    <tr>\n",
              "      <th>1</th>\n",
              "      <td>1</td>\n",
              "      <td>1</td>\n",
              "      <td>38.0</td>\n",
              "      <td>1</td>\n",
              "      <td>0</td>\n",
              "      <td>71.2833</td>\n",
              "      <td>1</td>\n",
              "    </tr>\n",
              "    <tr>\n",
              "      <th>2</th>\n",
              "      <td>3</td>\n",
              "      <td>1</td>\n",
              "      <td>26.0</td>\n",
              "      <td>0</td>\n",
              "      <td>0</td>\n",
              "      <td>7.9250</td>\n",
              "      <td>0</td>\n",
              "    </tr>\n",
              "    <tr>\n",
              "      <th>3</th>\n",
              "      <td>1</td>\n",
              "      <td>1</td>\n",
              "      <td>35.0</td>\n",
              "      <td>1</td>\n",
              "      <td>0</td>\n",
              "      <td>53.1000</td>\n",
              "      <td>0</td>\n",
              "    </tr>\n",
              "    <tr>\n",
              "      <th>4</th>\n",
              "      <td>3</td>\n",
              "      <td>0</td>\n",
              "      <td>35.0</td>\n",
              "      <td>0</td>\n",
              "      <td>0</td>\n",
              "      <td>8.0500</td>\n",
              "      <td>0</td>\n",
              "    </tr>\n",
              "  </tbody>\n",
              "</table>\n",
              "</div>\n",
              "    <div class=\"colab-df-buttons\">\n",
              "\n",
              "  <div class=\"colab-df-container\">\n",
              "    <button class=\"colab-df-convert\" onclick=\"convertToInteractive('df-73bd1a11-ccf1-471c-8927-83908ee39f41')\"\n",
              "            title=\"Convert this dataframe to an interactive table.\"\n",
              "            style=\"display:none;\">\n",
              "\n",
              "  <svg xmlns=\"http://www.w3.org/2000/svg\" height=\"24px\" viewBox=\"0 -960 960 960\">\n",
              "    <path d=\"M120-120v-720h720v720H120Zm60-500h600v-160H180v160Zm220 220h160v-160H400v160Zm0 220h160v-160H400v160ZM180-400h160v-160H180v160Zm440 0h160v-160H620v160ZM180-180h160v-160H180v160Zm440 0h160v-160H620v160Z\"/>\n",
              "  </svg>\n",
              "    </button>\n",
              "\n",
              "  <style>\n",
              "    .colab-df-container {\n",
              "      display:flex;\n",
              "      gap: 12px;\n",
              "    }\n",
              "\n",
              "    .colab-df-convert {\n",
              "      background-color: #E8F0FE;\n",
              "      border: none;\n",
              "      border-radius: 50%;\n",
              "      cursor: pointer;\n",
              "      display: none;\n",
              "      fill: #1967D2;\n",
              "      height: 32px;\n",
              "      padding: 0 0 0 0;\n",
              "      width: 32px;\n",
              "    }\n",
              "\n",
              "    .colab-df-convert:hover {\n",
              "      background-color: #E2EBFA;\n",
              "      box-shadow: 0px 1px 2px rgba(60, 64, 67, 0.3), 0px 1px 3px 1px rgba(60, 64, 67, 0.15);\n",
              "      fill: #174EA6;\n",
              "    }\n",
              "\n",
              "    .colab-df-buttons div {\n",
              "      margin-bottom: 4px;\n",
              "    }\n",
              "\n",
              "    [theme=dark] .colab-df-convert {\n",
              "      background-color: #3B4455;\n",
              "      fill: #D2E3FC;\n",
              "    }\n",
              "\n",
              "    [theme=dark] .colab-df-convert:hover {\n",
              "      background-color: #434B5C;\n",
              "      box-shadow: 0px 1px 3px 1px rgba(0, 0, 0, 0.15);\n",
              "      filter: drop-shadow(0px 1px 2px rgba(0, 0, 0, 0.3));\n",
              "      fill: #FFFFFF;\n",
              "    }\n",
              "  </style>\n",
              "\n",
              "    <script>\n",
              "      const buttonEl =\n",
              "        document.querySelector('#df-73bd1a11-ccf1-471c-8927-83908ee39f41 button.colab-df-convert');\n",
              "      buttonEl.style.display =\n",
              "        google.colab.kernel.accessAllowed ? 'block' : 'none';\n",
              "\n",
              "      async function convertToInteractive(key) {\n",
              "        const element = document.querySelector('#df-73bd1a11-ccf1-471c-8927-83908ee39f41');\n",
              "        const dataTable =\n",
              "          await google.colab.kernel.invokeFunction('convertToInteractive',\n",
              "                                                    [key], {});\n",
              "        if (!dataTable) return;\n",
              "\n",
              "        const docLinkHtml = 'Like what you see? Visit the ' +\n",
              "          '<a target=\"_blank\" href=https://colab.research.google.com/notebooks/data_table.ipynb>data table notebook</a>'\n",
              "          + ' to learn more about interactive tables.';\n",
              "        element.innerHTML = '';\n",
              "        dataTable['output_type'] = 'display_data';\n",
              "        await google.colab.output.renderOutput(dataTable, element);\n",
              "        const docLink = document.createElement('div');\n",
              "        docLink.innerHTML = docLinkHtml;\n",
              "        element.appendChild(docLink);\n",
              "      }\n",
              "    </script>\n",
              "  </div>\n",
              "\n",
              "\n",
              "<div id=\"df-fec3b024-42a1-4411-aebb-bdf2fdd8e804\">\n",
              "  <button class=\"colab-df-quickchart\" onclick=\"quickchart('df-fec3b024-42a1-4411-aebb-bdf2fdd8e804')\"\n",
              "            title=\"Suggest charts\"\n",
              "            style=\"display:none;\">\n",
              "\n",
              "<svg xmlns=\"http://www.w3.org/2000/svg\" height=\"24px\"viewBox=\"0 0 24 24\"\n",
              "     width=\"24px\">\n",
              "    <g>\n",
              "        <path d=\"M19 3H5c-1.1 0-2 .9-2 2v14c0 1.1.9 2 2 2h14c1.1 0 2-.9 2-2V5c0-1.1-.9-2-2-2zM9 17H7v-7h2v7zm4 0h-2V7h2v10zm4 0h-2v-4h2v4z\"/>\n",
              "    </g>\n",
              "</svg>\n",
              "  </button>\n",
              "\n",
              "<style>\n",
              "  .colab-df-quickchart {\n",
              "      --bg-color: #E8F0FE;\n",
              "      --fill-color: #1967D2;\n",
              "      --hover-bg-color: #E2EBFA;\n",
              "      --hover-fill-color: #174EA6;\n",
              "      --disabled-fill-color: #AAA;\n",
              "      --disabled-bg-color: #DDD;\n",
              "  }\n",
              "\n",
              "  [theme=dark] .colab-df-quickchart {\n",
              "      --bg-color: #3B4455;\n",
              "      --fill-color: #D2E3FC;\n",
              "      --hover-bg-color: #434B5C;\n",
              "      --hover-fill-color: #FFFFFF;\n",
              "      --disabled-bg-color: #3B4455;\n",
              "      --disabled-fill-color: #666;\n",
              "  }\n",
              "\n",
              "  .colab-df-quickchart {\n",
              "    background-color: var(--bg-color);\n",
              "    border: none;\n",
              "    border-radius: 50%;\n",
              "    cursor: pointer;\n",
              "    display: none;\n",
              "    fill: var(--fill-color);\n",
              "    height: 32px;\n",
              "    padding: 0;\n",
              "    width: 32px;\n",
              "  }\n",
              "\n",
              "  .colab-df-quickchart:hover {\n",
              "    background-color: var(--hover-bg-color);\n",
              "    box-shadow: 0 1px 2px rgba(60, 64, 67, 0.3), 0 1px 3px 1px rgba(60, 64, 67, 0.15);\n",
              "    fill: var(--button-hover-fill-color);\n",
              "  }\n",
              "\n",
              "  .colab-df-quickchart-complete:disabled,\n",
              "  .colab-df-quickchart-complete:disabled:hover {\n",
              "    background-color: var(--disabled-bg-color);\n",
              "    fill: var(--disabled-fill-color);\n",
              "    box-shadow: none;\n",
              "  }\n",
              "\n",
              "  .colab-df-spinner {\n",
              "    border: 2px solid var(--fill-color);\n",
              "    border-color: transparent;\n",
              "    border-bottom-color: var(--fill-color);\n",
              "    animation:\n",
              "      spin 1s steps(1) infinite;\n",
              "  }\n",
              "\n",
              "  @keyframes spin {\n",
              "    0% {\n",
              "      border-color: transparent;\n",
              "      border-bottom-color: var(--fill-color);\n",
              "      border-left-color: var(--fill-color);\n",
              "    }\n",
              "    20% {\n",
              "      border-color: transparent;\n",
              "      border-left-color: var(--fill-color);\n",
              "      border-top-color: var(--fill-color);\n",
              "    }\n",
              "    30% {\n",
              "      border-color: transparent;\n",
              "      border-left-color: var(--fill-color);\n",
              "      border-top-color: var(--fill-color);\n",
              "      border-right-color: var(--fill-color);\n",
              "    }\n",
              "    40% {\n",
              "      border-color: transparent;\n",
              "      border-right-color: var(--fill-color);\n",
              "      border-top-color: var(--fill-color);\n",
              "    }\n",
              "    60% {\n",
              "      border-color: transparent;\n",
              "      border-right-color: var(--fill-color);\n",
              "    }\n",
              "    80% {\n",
              "      border-color: transparent;\n",
              "      border-right-color: var(--fill-color);\n",
              "      border-bottom-color: var(--fill-color);\n",
              "    }\n",
              "    90% {\n",
              "      border-color: transparent;\n",
              "      border-bottom-color: var(--fill-color);\n",
              "    }\n",
              "  }\n",
              "</style>\n",
              "\n",
              "  <script>\n",
              "    async function quickchart(key) {\n",
              "      const quickchartButtonEl =\n",
              "        document.querySelector('#' + key + ' button');\n",
              "      quickchartButtonEl.disabled = true;  // To prevent multiple clicks.\n",
              "      quickchartButtonEl.classList.add('colab-df-spinner');\n",
              "      try {\n",
              "        const charts = await google.colab.kernel.invokeFunction(\n",
              "            'suggestCharts', [key], {});\n",
              "      } catch (error) {\n",
              "        console.error('Error during call to suggestCharts:', error);\n",
              "      }\n",
              "      quickchartButtonEl.classList.remove('colab-df-spinner');\n",
              "      quickchartButtonEl.classList.add('colab-df-quickchart-complete');\n",
              "    }\n",
              "    (() => {\n",
              "      let quickchartButtonEl =\n",
              "        document.querySelector('#df-fec3b024-42a1-4411-aebb-bdf2fdd8e804 button');\n",
              "      quickchartButtonEl.style.display =\n",
              "        google.colab.kernel.accessAllowed ? 'block' : 'none';\n",
              "    })();\n",
              "  </script>\n",
              "</div>\n",
              "\n",
              "    </div>\n",
              "  </div>\n"
            ]
          },
          "metadata": {},
          "execution_count": 69
        }
      ]
    },
    {
      "cell_type": "code",
      "source": [
        "# Vérifiez et afficher les colonnes contenant avec leurs nombres de valeurs manquantes\n",
        "print(X.isna().sum())"
      ],
      "metadata": {
        "colab": {
          "base_uri": "https://localhost:8080/"
        },
        "id": "y_DhsMFxg1gf",
        "outputId": "612109c1-561b-484a-dff6-64a3a1ef5e9e"
      },
      "execution_count": null,
      "outputs": [
        {
          "output_type": "stream",
          "name": "stdout",
          "text": [
            "Pclass        0\n",
            "Sex           0\n",
            "Age         177\n",
            "SibSp         0\n",
            "Parch         0\n",
            "Fare          0\n",
            "Embarked      0\n",
            "dtype: int64\n"
          ]
        }
      ]
    },
    {
      "cell_type": "markdown",
      "source": [
        "<H2> Traitement des valeurs manquantes</H2>\n",
        "\n",
        "Un des problèmes les plus rencontrés dans le traitement des données et les valeurs manquantes c’est-à-dire des enregistrements qui n ont pas toutes les données. Ces valeurs manquantes sont souvent représentées par NA pour not a value ou Null.\n",
        "\n",
        "Pour résoudre ce problème et traiter les erreurs manquantes il est possible de procéder à La Suppression des colonnes ou les lignes contenant un nombre de données manquantes supérieurs à un seuil; exemple >70%. Ou bien, procéder au remplacement qui est préférable que la suppression car on garde la même taille de données initiales. On peut les remplacer par une valeur par défaut ou zéro, Ou bien utiliser l’inverse dans le cas binaire: si on a des 1. Aussi, on peut Utiliser la moyenne ou la médiane dans le cas où les valeurs manquantes ne sont pas importantes. Ou même les remplacer par la valeur maximale de l'occurrence Et ainsi de suite"
      ],
      "metadata": {
        "id": "vWJ-p8o4qp9C"
      }
    },
    {
      "cell_type": "code",
      "source": [
        "# Imputer avec la moyenne des colonnes\n",
        "X.fillna(X.mean(), inplace=True)\n",
        "\n",
        "# Evaluer la classification\n",
        "classify(X, y)"
      ],
      "metadata": {
        "colab": {
          "base_uri": "https://localhost:8080/"
        },
        "id": "uFN3i5UH64i-",
        "outputId": "22c2a913-1e04-47d3-d230-44aeaef32489"
      },
      "execution_count": null,
      "outputs": [
        {
          "output_type": "stream",
          "name": "stdout",
          "text": [
            "Accuracy: 0.7094972067039106\n",
            "Classification Report:\n",
            "               precision    recall  f1-score   support\n",
            "\n",
            "           0       0.77      0.79      0.78       117\n",
            "           1       0.59      0.55      0.57        62\n",
            "\n",
            "    accuracy                           0.71       179\n",
            "   macro avg       0.68      0.67      0.67       179\n",
            "weighted avg       0.71      0.71      0.71       179\n",
            "\n"
          ]
        },
        {
          "output_type": "stream",
          "name": "stderr",
          "text": [
            "<ipython-input-71-c590da32e6d8>:2: DeprecationWarning: In a future version, `df.iloc[:, i] = newvals` will attempt to set the values inplace instead of always setting a new array. To retain the old behavior, use either `df[df.columns[i]] = newvals` or, if columns are non-unique, `df.isetitem(i, newvals)`\n",
            "  X.fillna(X.mean(), inplace=True)\n"
          ]
        },
        {
          "output_type": "execute_result",
          "data": {
            "text/plain": [
              "0.7094972067039106"
            ]
          },
          "metadata": {},
          "execution_count": 71
        }
      ]
    },
    {
      "cell_type": "markdown",
      "source": [
        "<h1>Sélection de caractéristiques (features selection)</h1>\n",
        "La sélection de caractéristiques (features selection) est l’opération permettant de d’extraire intelligemment de la connaissance à partir des données brutes.\n",
        "\n",
        "Objectif:\n",
        "* Améliorer les performances (en termes de rapidité, de puissance de prédiction et de la simplicité du modèle).\n",
        "* Réduire les dimensions et éliminer le bruit.\n",
        "\n",
        "La sélection des caractéristiques est un processus qui choisit un sous-ensemble optimal de caractéristique en fonction d'un critère donné.\n",
        "\n",
        "Objectif de FS: <br>\n",
        "* Supprimer les données non pertinentes,\n",
        "* Augmenter de la précision du modèle d’apprentissage notamment en réduisant les besoins en stockage et les coûts de calcul,\n",
        "* Réduire le nombre de données,\n",
        "* Réduire la complexité de la description du modèle résultant,\n",
        "* Améliorer la compréhension des données et du modèle."
      ],
      "metadata": {
        "id": "kXqnldJopd3r"
      }
    },
    {
      "cell_type": "markdown",
      "source": [
        "<h2>Les catégories de la sélection des caractéristiques</h2>\n",
        "Trois approches sont généralement utilisées dans la sélection des caractéristiques : embedded, wrapper et filter: <br>\n",
        "\n",
        "* Les méthodes « embedded » intègrent directement la sélection dans le processus d’apprentissage. Les arbres de décision est une illustration de ce système.\n",
        "* Les méthodes « wrapper » optimisent explicitement un critère de précision, le plus souvent le taux d’erreur. Elles ne s’appuient en rien sur les caractéristiques de l’algorithme d’apprentissage qui est utilisé comme une boîte noire.\n",
        "* les méthodes « filter » agissent en amont, avant la mise en œuvre de la technique d’apprentissage, et sans lien direct avec celui‐ci."
      ],
      "metadata": {
        "id": "0sO-85dipk8a"
      }
    },
    {
      "cell_type": "code",
      "source": [
        "totalFeatures=X.shape[1]\n",
        "print(\"Nombre total de caractéristiques: \", totalFeatures)"
      ],
      "metadata": {
        "id": "mLAo2RmwwiE1",
        "colab": {
          "base_uri": "https://localhost:8080/"
        },
        "outputId": "d01e64ba-f11d-4760-ebe4-465c23c121c8"
      },
      "execution_count": null,
      "outputs": [
        {
          "output_type": "stream",
          "name": "stdout",
          "text": [
            "Nombre total de caractéristiques:  7\n"
          ]
        }
      ]
    },
    {
      "cell_type": "markdown",
      "source": [
        "<h2> Suppression des caractéristiques à faible variance</h2>\n",
        "Suppression des caractéristiques à faible variance (Removing features with low variance) est une méthode de sélection (élimination) basée sur le filtrage.<br>\n",
        "On peut la considérer comme une méthode de nettoyage de caractéristique qui  élémine toutes les caractéristiques dont la variance n'atteint pas un certain seuil.<br>\n",
        "Par défaut, elle supprime toutes les caractéristiques à variance nulle, c'est-à-dire les caractéristiques qui ont la même valeur dans tous les échantillons."
      ],
      "metadata": {
        "id": "NW2VymeXpmgQ"
      }
    },
    {
      "cell_type": "code",
      "source": [
        "from sklearn.feature_selection import VarianceThreshold\n",
        "varTh = VarianceThreshold()\n",
        "# Nous allons utiliser les caractéristiques aprés transformation logaritmique et standarization\n",
        "Xvth=varTh.fit_transform(X)\n",
        "print(Xvth.shape)\n",
        "classify(Xvth,y)"
      ],
      "metadata": {
        "id": "PMEREnA4pE93",
        "colab": {
          "base_uri": "https://localhost:8080/"
        },
        "outputId": "f4b78a48-d95e-4d05-fdc4-6f7f97281da3"
      },
      "execution_count": null,
      "outputs": [
        {
          "output_type": "stream",
          "name": "stdout",
          "text": [
            "(891, 7)\n",
            "Accuracy: 0.7094972067039106\n",
            "Classification Report:\n",
            "               precision    recall  f1-score   support\n",
            "\n",
            "           0       0.77      0.79      0.78       117\n",
            "           1       0.59      0.55      0.57        62\n",
            "\n",
            "    accuracy                           0.71       179\n",
            "   macro avg       0.68      0.67      0.67       179\n",
            "weighted avg       0.71      0.71      0.71       179\n",
            "\n"
          ]
        },
        {
          "output_type": "execute_result",
          "data": {
            "text/plain": [
              "0.7094972067039106"
            ]
          },
          "metadata": {},
          "execution_count": 73
        }
      ]
    },
    {
      "cell_type": "markdown",
      "source": [
        "On remarque que dans notre exemple, cette méthode n'a pas d'influence sur le taux de classification."
      ],
      "metadata": {
        "id": "10rPpyWwqXpp"
      }
    },
    {
      "cell_type": "markdown",
      "source": [
        "<h2>chi2</h2>\n",
        "C’est un algorithme de sélection des caractéristiques qui appartient à la famille des algorithmes de filtrage basé sur la statistique 𝜒2. Cette méthode mesure l’écart à l’indépendance entre une caractéristique et une classe. Elle commence par un niveau de signification élevé pour toutes les caractéristiques pour la discrétisation et chaque caractéristique est triée en fonction de ses valeurs."
      ],
      "metadata": {
        "id": "9y-gPsQzqa9R"
      }
    },
    {
      "cell_type": "code",
      "source": [
        "from sklearn.feature_selection import SelectKBest\n",
        "from sklearn.feature_selection import chi2\n",
        "\n",
        "\n",
        "k=4 # Nombre de caractéristiques à selectionner\n",
        "chi2_bestfeatures = SelectKBest(score_func=chi2, k=k).fit(X, y) # probléme avec les vals négatives\n",
        "\n",
        "Xchi2=chi2_bestfeatures.transform(X)\n",
        "classify(Xchi2,y)\n",
        "\n",
        "import pandas as pd\n",
        "# Retourner le score de chaque caractéristique\n",
        "dfscores = pd.DataFrame(chi2_bestfeatures.scores_)\n",
        "dfcolumns = pd.DataFrame(X.columns)\n",
        "\n",
        "# Concaténer les deux pour une meilleure visualisation\n",
        "featureScores = pd.concat([dfcolumns, dfscores], axis=1)\n",
        "featureScores.columns = ['Feature', 'Score']  # Nommer les colonnes du Dataframe\n",
        "print(featureScores.nlargest(k, 'Score')) # Afficher les meilleurs k caractéristiques"
      ],
      "metadata": {
        "id": "eN2iPvSYBtkn",
        "colab": {
          "base_uri": "https://localhost:8080/"
        },
        "outputId": "fc8c5d55-43dd-4e37-e96d-613d90264969"
      },
      "execution_count": null,
      "outputs": [
        {
          "output_type": "stream",
          "name": "stdout",
          "text": [
            "Accuracy: 0.6759776536312849\n",
            "Classification Report:\n",
            "               precision    recall  f1-score   support\n",
            "\n",
            "           0       0.73      0.80      0.76       117\n",
            "           1       0.54      0.44      0.48        62\n",
            "\n",
            "    accuracy                           0.68       179\n",
            "   macro avg       0.63      0.62      0.62       179\n",
            "weighted avg       0.66      0.68      0.67       179\n",
            "\n",
            "  Feature        Score\n",
            "5    Fare  4518.319091\n",
            "1     Sex   170.348127\n",
            "0  Pclass    30.873699\n",
            "2     Age    24.687926\n"
          ]
        }
      ]
    },
    {
      "cell_type": "code",
      "source": [
        "from sklearn.feature_selection import SelectKBest\n",
        "from sklearn.feature_selection import chi2\n",
        "import pandas as pd\n",
        "\n",
        "chi2_bestfeatures = SelectKBest(score_func=chi2, k=totalFeatures).fit(X, y)\n",
        "# Retourner le score de chaque caractéristique\n",
        "dfscores = pd.DataFrame(chi2_bestfeatures.scores_)\n",
        "dfcolumns = pd.DataFrame(X.columns)\n",
        "# Concaténer les deux pour une meilleure visualisation\n",
        "featureScores = pd.concat([dfcolumns, dfscores], axis=1)\n",
        "featureScores.columns = ['Feature', 'Score'] # Nommer les colonnes du Dataframe\n",
        "\n",
        "# Trier les caractéristiques par leurs scores\n",
        "featureScores = featureScores.sort_values(by='Score', ascending=False)\n",
        "# Représentation\n",
        "import matplotlib.pyplot as plt\n",
        "plt.figure(figsize=(12, 8))\n",
        "plt.plot(featureScores['Feature'], featureScores['Score'], color='red')\n",
        "plt.xlabel('Features')\n",
        "plt.ylabel('Score')\n",
        "plt.title('Feature Scores')\n",
        "plt.gca()\n",
        "plt.show()\n"
      ],
      "metadata": {
        "id": "psv8PlmZyq4u",
        "colab": {
          "base_uri": "https://localhost:8080/",
          "height": 718
        },
        "outputId": "f4f5e0b0-e301-44c4-ddff-a32921fce1d6"
      },
      "execution_count": null,
      "outputs": [
        {
          "output_type": "display_data",
          "data": {
            "text/plain": [
              "<Figure size 1200x800 with 1 Axes>"
            ],
            "image/png": "[encoded data removed]"
          },
          "metadata": {}
        }
      ]
    },
    {
      "cell_type": "code",
      "source": [
        "featureScores = featureScores.sort_values(by='Score', ascending=False)\n",
        "accuraciesChie2 = []\n",
        "for i in range (1,totalFeatures + 1):\n",
        "  features_names = featureScores['Feature'][:i]\n",
        "  print(\"Fetaures names: \", np.array(features_names))\n",
        "  features = X[features_names]\n",
        "  accuracy = classify(features,y)\n",
        "  accuraciesChie2.append(accuracy * 100)\n",
        "\n",
        "import matplotlib.pyplot as plt\n",
        "plt.figure(figsize=(12, 8))\n",
        "plt.plot(range(1,totalFeatures + 1),accuraciesChie2, marker='o', linestyle='-',color='red')\n",
        "for i, txt in enumerate(accuraciesChie2):\n",
        "    plt.annotate(f\"{txt:.2f}\", (i+1, accuraciesChie2[i]), textcoords=\"offset points\", xytext=(0,10), ha='center')\n",
        "\n",
        "plt.xlabel('Nombre de caractèristiques')\n",
        "plt.ylabel('Accuracy %')\n",
        "plt.title('Accuracy par concaténation de meilleures caractèristiques')\n",
        "plt.grid(True)\n",
        "plt.gca()\n",
        "plt.show()"
      ],
      "metadata": {
        "id": "AAwfha990fmt",
        "colab": {
          "base_uri": "https://localhost:8080/",
          "height": 1000
        },
        "outputId": "6001b403-03b9-43cd-92f3-d191ff1bad6d"
      },
      "execution_count": null,
      "outputs": [
        {
          "output_type": "stream",
          "name": "stdout",
          "text": [
            "Fetaures names:  ['Fare']\n",
            "Accuracy: 0.7374301675977654\n",
            "Classification Report:\n",
            "               precision    recall  f1-score   support\n",
            "\n",
            "           0       0.78      0.84      0.81       117\n",
            "           1       0.64      0.55      0.59        62\n",
            "\n",
            "    accuracy                           0.74       179\n",
            "   macro avg       0.71      0.69      0.70       179\n",
            "weighted avg       0.73      0.74      0.73       179\n",
            "\n",
            "Fetaures names:  ['Fare' 'Sex']\n",
            "Accuracy: 0.7597765363128491\n",
            "Classification Report:\n",
            "               precision    recall  f1-score   support\n",
            "\n",
            "           0       0.79      0.86      0.82       117\n",
            "           1       0.69      0.56      0.62        62\n",
            "\n",
            "    accuracy                           0.76       179\n",
            "   macro avg       0.74      0.71      0.72       179\n",
            "weighted avg       0.75      0.76      0.75       179\n",
            "\n",
            "Fetaures names:  ['Fare' 'Sex' 'Pclass']\n",
            "Accuracy: 0.7653631284916201\n",
            "Classification Report:\n",
            "               precision    recall  f1-score   support\n",
            "\n",
            "           0       0.80      0.86      0.83       117\n",
            "           1       0.69      0.58      0.63        62\n",
            "\n",
            "    accuracy                           0.77       179\n",
            "   macro avg       0.74      0.72      0.73       179\n",
            "weighted avg       0.76      0.77      0.76       179\n",
            "\n",
            "Fetaures names:  ['Fare' 'Sex' 'Pclass' 'Age']\n",
            "Accuracy: 0.6759776536312849\n",
            "Classification Report:\n",
            "               precision    recall  f1-score   support\n",
            "\n",
            "           0       0.73      0.80      0.76       117\n",
            "           1       0.54      0.44      0.48        62\n",
            "\n",
            "    accuracy                           0.68       179\n",
            "   macro avg       0.63      0.62      0.62       179\n",
            "weighted avg       0.66      0.68      0.67       179\n",
            "\n",
            "Fetaures names:  ['Fare' 'Sex' 'Pclass' 'Age' 'Embarked']\n",
            "Accuracy: 0.7039106145251397\n",
            "Classification Report:\n",
            "               precision    recall  f1-score   support\n",
            "\n",
            "           0       0.75      0.83      0.79       117\n",
            "           1       0.59      0.47      0.52        62\n",
            "\n",
            "    accuracy                           0.70       179\n",
            "   macro avg       0.67      0.65      0.65       179\n",
            "weighted avg       0.69      0.70      0.69       179\n",
            "\n",
            "Fetaures names:  ['Fare' 'Sex' 'Pclass' 'Age' 'Embarked' 'Parch']\n",
            "Accuracy: 0.7039106145251397\n",
            "Classification Report:\n",
            "               precision    recall  f1-score   support\n",
            "\n",
            "           0       0.76      0.80      0.78       117\n",
            "           1       0.58      0.52      0.55        62\n",
            "\n",
            "    accuracy                           0.70       179\n",
            "   macro avg       0.67      0.66      0.66       179\n",
            "weighted avg       0.70      0.70      0.70       179\n",
            "\n",
            "Fetaures names:  ['Fare' 'Sex' 'Pclass' 'Age' 'Embarked' 'Parch' 'SibSp']\n",
            "Accuracy: 0.7094972067039106\n",
            "Classification Report:\n",
            "               precision    recall  f1-score   support\n",
            "\n",
            "           0       0.77      0.79      0.78       117\n",
            "           1       0.59      0.55      0.57        62\n",
            "\n",
            "    accuracy                           0.71       179\n",
            "   macro avg       0.68      0.67      0.67       179\n",
            "weighted avg       0.71      0.71      0.71       179\n",
            "\n"
          ]
        },
        {
          "output_type": "display_data",
          "data": {
            "text/plain": [
              "<Figure size 1200x800 with 1 Axes>"
            ],
            "image/png": "[encoded data removed]"
          },
          "metadata": {}
        }
      ]
    },
    {
      "cell_type": "markdown",
      "source": [
        "On peut remarquer que le score maximal est obtenu avec seulement 4 caractéristiques et qui sont Fare, Sex, Pclass, Age. Aussi, on peut avec seulement ces 4 caractéristiques avoir le meilleur taux de classification."
      ],
      "metadata": {
        "id": "KJ5mj3QTK8nT"
      }
    },
    {
      "cell_type": "markdown",
      "source": [
        "<h2>Recursive Feature Elimination (RFE)</h2>\n",
        "C’est une méthode de cartographie basée sur l'idée à plusieurs reprises, construire un modèle et choisir le meilleur ou le pire performant. Cette méthode qui appartient aux méthodes de filtrage est souvent utilisée comme étape de prétraitement pour les méthodes intégrée (souvent avec l’algorithme de classification SVM) afin de la généraliser à des grandes masses de données"
      ],
      "metadata": {
        "id": "uvYiCP1HLQP0"
      }
    },
    {
      "cell_type": "code",
      "source": [
        "from sklearn.feature_selection import RFE\n",
        "from sklearn.svm import SVC\n",
        "# Créer un modèle de base qui soit linéaire\n",
        "model = SVC(kernel=\"linear\", C=1)\n",
        "# Créer une instance RFE et sélectionner un certain nombre de caractéristiques\n",
        "rfe = RFE(estimator=model, n_features_to_select=4,  step=1)\n",
        "\n",
        "# Ajuster le modèle RFE\n",
        "rfe = rfe.fit(X, y)\n",
        "\n",
        "# Créer un DataFrame pour afficher les résultats\n",
        "results = pd.DataFrame({\n",
        "    'Caractéristique': X.columns,\n",
        "    'Sélectionnée': rfe.support_,l\n",
        "    'Rang': rfe.ranking_\n",
        "})\n",
        "\n",
        "# Trier les résultats par rang et afficher\n",
        "sorted_results = results.sort_values(by='Rang')\n",
        "print(sorted_results)"
      ],
      "metadata": {
        "id": "Q_lt8F4RMQ54",
        "colab": {
          "base_uri": "https://localhost:8080/"
        },
        "outputId": "38857775-882a-4c4f-baaa-992666fa6fbb"
      },
      "execution_count": null,
      "outputs": [
        {
          "output_type": "stream",
          "name": "stdout",
          "text": [
            "  Caractéristique  Sélectionnée  Rang\n",
            "0          Pclass          True     1\n",
            "1             Sex          True     1\n",
            "3           SibSp          True     1\n",
            "4           Parch          True     1\n",
            "6        Embarked         False     2\n",
            "2             Age         False     3\n",
            "5            Fare         False     4\n"
          ]
        }
      ]
    },
    {
      "cell_type": "code",
      "source": [
        "# Obtenir les caractéristiques sélectionnées\n",
        "selected_features = X.columns[rfe.support_]\n",
        "\n",
        "# Construire la nouvelle matrice de caractéristiques\n",
        "Xrfe = X[selected_features]\n",
        "\n",
        "# Utiliser les caractéristiques sélectionnées pour concevoir un modèle\n",
        "classify(Xrfe,y)"
      ],
      "metadata": {
        "id": "H8FOygLqv1ES",
        "colab": {
          "base_uri": "https://localhost:8080/"
        },
        "outputId": "f2f71614-85d8-4c94-b740-2164aabce8b7"
      },
      "execution_count": null,
      "outputs": [
        {
          "output_type": "stream",
          "name": "stdout",
          "text": [
            "Accuracy: 0.8156424581005587\n",
            "Classification Report:\n",
            "               precision    recall  f1-score   support\n",
            "\n",
            "           0       0.84      0.88      0.86       117\n",
            "           1       0.75      0.69      0.72        62\n",
            "\n",
            "    accuracy                           0.82       179\n",
            "   macro avg       0.80      0.79      0.79       179\n",
            "weighted avg       0.81      0.82      0.81       179\n",
            "\n"
          ]
        },
        {
          "output_type": "execute_result",
          "data": {
            "text/plain": [
              "0.8156424581005587"
            ]
          },
          "metadata": {},
          "execution_count": 78
        }
      ]
    },
    {
      "cell_type": "markdown",
      "source": [
        "Voilà une étude sur les résultats de classification en fonction de la concaténation des caractéristiques par ordre d’importance par RFE."
      ],
      "metadata": {
        "id": "vLar5TZ5dbwB"
      }
    },
    {
      "cell_type": "code",
      "source": [
        "# Créer une instance RFE et sélectionner un certain nombre de caractéristiques\n",
        "rfe = RFE(estimator=model, n_features_to_select=1)\n",
        "# Ajuster le modèle RFE\n",
        "rfe = rfe.fit(X, y)\n",
        "\n",
        "# Créer un DataFrame pour afficher les résultats\n",
        "results = pd.DataFrame({\n",
        "    'Caractéristique': X.columns,\n",
        "    'Sélectionnée': rfe.support_,\n",
        "    'Rang': rfe.ranking_\n",
        "})\n",
        "# Trier les résultats par rang et afficher\n",
        "sorted_results = results.sort_values(by='Rang')\n",
        "print(sorted_results)\n",
        "accuraciesRFe = []\n",
        "for i in range (1,totalFeatures + 1):\n",
        "  features_names = sorted_results['Caractéristique'][:i]\n",
        "  print(\"Fetaures names: \", np.array(features_names))\n",
        "  features = X[features_names]\n",
        "  accuracy = classify(features,y)\n",
        "  accuraciesRFe.append(accuracy * 100)\n",
        "\n",
        "import matplotlib.pyplot as plt\n",
        "plt.figure(figsize=(12, 8))\n",
        "plt.plot(range(1,totalFeatures + 1),accuraciesRFe, marker='o', linestyle='-',color='red')\n",
        "for i, txt in enumerate(accuraciesRFe):\n",
        "    plt.annotate(f\"{txt:.2f}\", (i+1, accuraciesRFe[i]), textcoords=\"offset points\", xytext=(0,10), ha='center')\n",
        "\n",
        "plt.xlabel('Nombre de caractèristiques')\n",
        "plt.ylabel('Accuracy %')\n",
        "plt.title('Accuracy par concaténation de meilleures caractèristiques sélèctionnées par RFE')\n",
        "plt.grid(True)\n",
        "plt.gca()\n",
        "plt.show()"
      ],
      "metadata": {
        "id": "DBAwb6W4ySAp",
        "colab": {
          "base_uri": "https://localhost:8080/",
          "height": 1000
        },
        "outputId": "c7b642a4-efc8-452d-c3a5-c07eaab92bf6"
      },
      "execution_count": null,
      "outputs": [
        {
          "output_type": "stream",
          "name": "stdout",
          "text": [
            "  Caractéristique  Sélectionnée  Rang\n",
            "1             Sex          True     1\n",
            "4           Parch         False     2\n",
            "0          Pclass         False     3\n",
            "3           SibSp         False     4\n",
            "6        Embarked         False     5\n",
            "2             Age         False     6\n",
            "5            Fare         False     7\n",
            "Fetaures names:  ['Sex']\n",
            "Accuracy: 0.7988826815642458\n",
            "Classification Report:\n",
            "               precision    recall  f1-score   support\n",
            "\n",
            "           0       0.84      0.85      0.85       117\n",
            "           1       0.72      0.69      0.70        62\n",
            "\n",
            "    accuracy                           0.80       179\n",
            "   macro avg       0.78      0.77      0.78       179\n",
            "weighted avg       0.80      0.80      0.80       179\n",
            "\n",
            "Fetaures names:  ['Sex' 'Parch']\n",
            "Accuracy: 0.8044692737430168\n",
            "Classification Report:\n",
            "               precision    recall  f1-score   support\n",
            "\n",
            "           0       0.84      0.86      0.85       117\n",
            "           1       0.73      0.69      0.71        62\n",
            "\n",
            "    accuracy                           0.80       179\n",
            "   macro avg       0.79      0.78      0.78       179\n",
            "weighted avg       0.80      0.80      0.80       179\n",
            "\n",
            "Fetaures names:  ['Sex' 'Parch' 'Pclass']\n",
            "Accuracy: 0.8156424581005587\n",
            "Classification Report:\n",
            "               precision    recall  f1-score   support\n",
            "\n",
            "           0       0.84      0.88      0.86       117\n",
            "           1       0.75      0.69      0.72        62\n",
            "\n",
            "    accuracy                           0.82       179\n",
            "   macro avg       0.80      0.79      0.79       179\n",
            "weighted avg       0.81      0.82      0.81       179\n",
            "\n",
            "Fetaures names:  ['Sex' 'Parch' 'Pclass' 'SibSp']\n",
            "Accuracy: 0.8156424581005587\n",
            "Classification Report:\n",
            "               precision    recall  f1-score   support\n",
            "\n",
            "           0       0.84      0.88      0.86       117\n",
            "           1       0.75      0.69      0.72        62\n",
            "\n",
            "    accuracy                           0.82       179\n",
            "   macro avg       0.80      0.79      0.79       179\n",
            "weighted avg       0.81      0.82      0.81       179\n",
            "\n",
            "Fetaures names:  ['Sex' 'Parch' 'Pclass' 'SibSp' 'Embarked']\n",
            "Accuracy: 0.8212290502793296\n",
            "Classification Report:\n",
            "               precision    recall  f1-score   support\n",
            "\n",
            "           0       0.85      0.89      0.87       117\n",
            "           1       0.77      0.69      0.73        62\n",
            "\n",
            "    accuracy                           0.82       179\n",
            "   macro avg       0.81      0.79      0.80       179\n",
            "weighted avg       0.82      0.82      0.82       179\n",
            "\n",
            "Fetaures names:  ['Sex' 'Parch' 'Pclass' 'SibSp' 'Embarked' 'Age']\n",
            "Accuracy: 0.8212290502793296\n",
            "Classification Report:\n",
            "               precision    recall  f1-score   support\n",
            "\n",
            "           0       0.88      0.84      0.86       117\n",
            "           1       0.72      0.79      0.75        62\n",
            "\n",
            "    accuracy                           0.82       179\n",
            "   macro avg       0.80      0.81      0.81       179\n",
            "weighted avg       0.83      0.82      0.82       179\n",
            "\n",
            "Fetaures names:  ['Sex' 'Parch' 'Pclass' 'SibSp' 'Embarked' 'Age' 'Fare']\n",
            "Accuracy: 0.7094972067039106\n",
            "Classification Report:\n",
            "               precision    recall  f1-score   support\n",
            "\n",
            "           0       0.77      0.79      0.78       117\n",
            "           1       0.59      0.55      0.57        62\n",
            "\n",
            "    accuracy                           0.71       179\n",
            "   macro avg       0.68      0.67      0.67       179\n",
            "weighted avg       0.71      0.71      0.71       179\n",
            "\n"
          ]
        },
        {
          "output_type": "display_data",
          "data": {
            "text/plain": [
              "<Figure size 1200x800 with 1 Axes>"
            ],
            "image/png": "[encoded data removed]"
          },
          "metadata": {}
        }
      ]
    },
    {
      "cell_type": "markdown",
      "source": [
        "On peut remarquer qu’avec une seule caractéristique sélectionnée par RFE qu’est le Sex, le taux de classification est supérieur que celui obtenu par 4 caractéristiques par obtenue Chi2\n",
        "Cela dit que le RFE est bien meilleur que le Chi2\n"
      ],
      "metadata": {
        "id": "CWo-aErFdKkS"
      }
    },
    {
      "cell_type": "markdown",
      "source": [
        "<h1>Relief</h1>\n",
        "Tente de déterminer le plus proche voisin d'un certain nombre d'échantillons sélectionnés au hasard à partir de l'ensemble de données. Pour chaque échantillon sélectionné, les valeurs des caractéristiques sont comparées à ceux des voisins les plus proches et les scores pour chaque caractéristique sont mis à jour. L'idée est d'estimer la qualité des attributs en fonction de la qualité de leurs valeurs et faire la distinction entre des échantillons proches les uns des autres"
      ],
      "metadata": {
        "id": "wN3wYgkf7OYI"
      }
    },
    {
      "cell_type": "code",
      "source": [
        "!pip install sklearn-relief==1.0.0b2"
      ],
      "metadata": {
        "id": "r5rW68cv9vtW",
        "colab": {
          "base_uri": "https://localhost:8080/"
        },
        "outputId": "5fa56067-4eb2-46f2-d4a6-db1c9f8aef66"
      },
      "execution_count": null,
      "outputs": [
        {
          "output_type": "stream",
          "name": "stdout",
          "text": [
            "Requirement already satisfied: sklearn-relief==1.0.0b2 in /usr/local/lib/python3.10/dist-packages (1.0.0b2)\n",
            "Requirement already satisfied: numpy>=1.13.3 in /usr/local/lib/python3.10/dist-packages (from sklearn-relief==1.0.0b2) (1.23.5)\n",
            "Requirement already satisfied: scipy>=1.0.0 in /usr/local/lib/python3.10/dist-packages (from sklearn-relief==1.0.0b2) (1.11.4)\n",
            "Requirement already satisfied: scikit-learn>=0.19.1 in /usr/local/lib/python3.10/dist-packages (from sklearn-relief==1.0.0b2) (1.2.2)\n",
            "Requirement already satisfied: joblib>=1.1.1 in /usr/local/lib/python3.10/dist-packages (from scikit-learn>=0.19.1->sklearn-relief==1.0.0b2) (1.3.2)\n",
            "Requirement already satisfied: threadpoolctl>=2.0.0 in /usr/local/lib/python3.10/dist-packages (from scikit-learn>=0.19.1->sklearn-relief==1.0.0b2) (3.2.0)\n"
          ]
        }
      ]
    },
    {
      "cell_type": "code",
      "source": [
        "XBis=np.array(X)\n",
        "from sklearn_relief import Relief\n",
        "# Créer une instance de ReliefF\n",
        "relf = Relief(n_features=7)  # Vous pouvez ajuster le nombre de voisins\n",
        "# Adapter le modèle à vos données\n",
        "Xrelief= relf.fit_transform(XBis, y)\n",
        "\n",
        "classify(Xrelief,y)"
      ],
      "metadata": {
        "id": "3lumH96S4Q-2",
        "colab": {
          "base_uri": "https://localhost:8080/"
        },
        "outputId": "4013d410-7351-430c-d9de-aff945d8a378"
      },
      "execution_count": null,
      "outputs": [
        {
          "output_type": "stream",
          "name": "stdout",
          "text": [
            "Accuracy: 0.7094972067039106\n",
            "Classification Report:\n",
            "               precision    recall  f1-score   support\n",
            "\n",
            "           0       0.77      0.79      0.78       117\n",
            "           1       0.59      0.55      0.57        62\n",
            "\n",
            "    accuracy                           0.71       179\n",
            "   macro avg       0.68      0.67      0.67       179\n",
            "weighted avg       0.71      0.71      0.71       179\n",
            "\n"
          ]
        },
        {
          "output_type": "execute_result",
          "data": {
            "text/plain": [
              "0.7094972067039106"
            ]
          },
          "metadata": {},
          "execution_count": 81
        }
      ]
    },
    {
      "cell_type": "code",
      "source": [
        "from sklearn_relief import Relief\n",
        "# Créer une instance de ReliefF\n",
        "relf = Relief(n_features=7)  # Vous pouvez ajuster le nombre de voisins\n",
        "# Adapter le modèle à vos données\n",
        "relf.fit(XBis, y)\n",
        "\n",
        "print (\"Poids des caracteristiques: \")\n",
        "print(relf.w_)\n",
        "\n",
        "# Créer un DataFrame pour afficher les résultats\n",
        "resultsRelief = pd.DataFrame({\n",
        "    'Caractéristique': X.columns,\n",
        "    'Poids': relf.w_,\n",
        "})\n",
        "\n",
        "print(resultsRelief)"
      ],
      "metadata": {
        "id": "FjpMlBb5CwbB",
        "colab": {
          "base_uri": "https://localhost:8080/"
        },
        "outputId": "533421a7-b094-4f91-dcfb-96359ccca53a"
      },
      "execution_count": null,
      "outputs": [
        {
          "output_type": "stream",
          "name": "stdout",
          "text": [
            "Poids des caracteristiques: \n",
            "[0.14       0.4        1.41978235 0.46       0.19       3.663629\n",
            " 0.15      ]\n",
            "  Caractéristique     Poids\n",
            "0          Pclass  0.140000\n",
            "1             Sex  0.400000\n",
            "2             Age  1.419782\n",
            "3           SibSp  0.460000\n",
            "4           Parch  0.190000\n",
            "5            Fare  3.663629\n",
            "6        Embarked  0.150000\n"
          ]
        }
      ]
    },
    {
      "cell_type": "code",
      "source": [
        "# Identifier les indices des caractéristiques les plus importantes\n",
        "top_feature_indices = np.argsort(relf.w_)[::-1]\n",
        "\n",
        "# Trier les poids\n",
        "weights = list(relf.w_)\n",
        "weights.sort(reverse=True)\n",
        "\n",
        "resultsRelief = pd.DataFrame({\n",
        "    'Caractéristique': X.columns[top_feature_indices],\n",
        "    'Poids': weights,\n",
        "    'Indice dans X': top_feature_indices,\n",
        "})\n",
        "print(resultsRelief)"
      ],
      "metadata": {
        "id": "Cg3BcWP51nL_",
        "colab": {
          "base_uri": "https://localhost:8080/"
        },
        "outputId": "ea8f3c58-e941-4833-d2c4-f7183feee527"
      },
      "execution_count": null,
      "outputs": [
        {
          "output_type": "stream",
          "name": "stdout",
          "text": [
            "  Caractéristique     Poids  Indice dans X\n",
            "0            Fare  3.663629              5\n",
            "1             Age  1.419782              2\n",
            "2           SibSp  0.460000              3\n",
            "3             Sex  0.400000              1\n",
            "4           Parch  0.190000              4\n",
            "5        Embarked  0.150000              6\n",
            "6          Pclass  0.140000              0\n"
          ]
        }
      ]
    },
    {
      "cell_type": "code",
      "source": [
        "accuraciesRelief = []\n",
        "for i in range (1,totalFeatures + 1):\n",
        "  features_names = X.columns[top_feature_indices][:i]\n",
        "  print(\"Features names: \", np.array(features_names))\n",
        "  features = X[features_names]\n",
        "  accuracy = classify(features,y)\n",
        "  accuraciesRelief.append(accuracy * 100)\n",
        "\n",
        "import matplotlib.pyplot as plt\n",
        "plt.figure(figsize=(12, 8))\n",
        "plt.plot(range(1,totalFeatures + 1),accuraciesRelief, marker='o', linestyle='-',color='red')\n",
        "for i, txt in enumerate(accuraciesRelief):\n",
        "    plt.annotate(f\"{txt:.2f}\", (i+1, accuraciesRelief[i]), textcoords=\"offset points\", xytext=(0,10), ha='center')\n",
        "\n",
        "plt.xlabel('Nombre de caractèristiques')\n",
        "plt.ylabel('Accuracy %')\n",
        "plt.title('Accuracy par concaténation de meilleures caractèristiques sélèctionnées par Relief')\n",
        "plt.grid(True)\n",
        "plt.gca()\n",
        "plt.show()"
      ],
      "metadata": {
        "id": "cT5-Yw1K3USf",
        "colab": {
          "base_uri": "https://localhost:8080/",
          "height": 1000
        },
        "outputId": "e9be8ea7-6235-446f-ee38-32534e2f8402"
      },
      "execution_count": null,
      "outputs": [
        {
          "output_type": "stream",
          "name": "stdout",
          "text": [
            "Features names:  ['Fare']\n",
            "Accuracy: 0.7374301675977654\n",
            "Classification Report:\n",
            "               precision    recall  f1-score   support\n",
            "\n",
            "           0       0.78      0.84      0.81       117\n",
            "           1       0.64      0.55      0.59        62\n",
            "\n",
            "    accuracy                           0.74       179\n",
            "   macro avg       0.71      0.69      0.70       179\n",
            "weighted avg       0.73      0.74      0.73       179\n",
            "\n",
            "Features names:  ['Fare' 'Age']\n",
            "Accuracy: 0.6536312849162011\n",
            "Classification Report:\n",
            "               precision    recall  f1-score   support\n",
            "\n",
            "           0       0.69      0.85      0.76       117\n",
            "           1       0.50      0.29      0.37        62\n",
            "\n",
            "    accuracy                           0.65       179\n",
            "   macro avg       0.60      0.57      0.56       179\n",
            "weighted avg       0.63      0.65      0.63       179\n",
            "\n",
            "Features names:  ['Fare' 'Age' 'SibSp']\n",
            "Accuracy: 0.6480446927374302\n",
            "Classification Report:\n",
            "               precision    recall  f1-score   support\n",
            "\n",
            "           0       0.69      0.84      0.76       117\n",
            "           1       0.49      0.29      0.36        62\n",
            "\n",
            "    accuracy                           0.65       179\n",
            "   macro avg       0.59      0.56      0.56       179\n",
            "weighted avg       0.62      0.65      0.62       179\n",
            "\n",
            "Features names:  ['Fare' 'Age' 'SibSp' 'Sex']\n",
            "Accuracy: 0.6815642458100558\n",
            "Classification Report:\n",
            "               precision    recall  f1-score   support\n",
            "\n",
            "           0       0.73      0.81      0.77       117\n",
            "           1       0.55      0.44      0.49        62\n",
            "\n",
            "    accuracy                           0.68       179\n",
            "   macro avg       0.64      0.62      0.63       179\n",
            "weighted avg       0.67      0.68      0.67       179\n",
            "\n",
            "Features names:  ['Fare' 'Age' 'SibSp' 'Sex' 'Parch']\n",
            "Accuracy: 0.6927374301675978\n",
            "Classification Report:\n",
            "               precision    recall  f1-score   support\n",
            "\n",
            "           0       0.76      0.78      0.77       117\n",
            "           1       0.56      0.53      0.55        62\n",
            "\n",
            "    accuracy                           0.69       179\n",
            "   macro avg       0.66      0.66      0.66       179\n",
            "weighted avg       0.69      0.69      0.69       179\n",
            "\n",
            "Features names:  ['Fare' 'Age' 'SibSp' 'Sex' 'Parch' 'Embarked']\n",
            "Accuracy: 0.7094972067039106\n",
            "Classification Report:\n",
            "               precision    recall  f1-score   support\n",
            "\n",
            "           0       0.76      0.80      0.78       117\n",
            "           1       0.59      0.53      0.56        62\n",
            "\n",
            "    accuracy                           0.71       179\n",
            "   macro avg       0.68      0.67      0.67       179\n",
            "weighted avg       0.70      0.71      0.71       179\n",
            "\n",
            "Features names:  ['Fare' 'Age' 'SibSp' 'Sex' 'Parch' 'Embarked' 'Pclass']\n",
            "Accuracy: 0.7094972067039106\n",
            "Classification Report:\n",
            "               precision    recall  f1-score   support\n",
            "\n",
            "           0       0.77      0.79      0.78       117\n",
            "           1       0.59      0.55      0.57        62\n",
            "\n",
            "    accuracy                           0.71       179\n",
            "   macro avg       0.68      0.67      0.67       179\n",
            "weighted avg       0.71      0.71      0.71       179\n",
            "\n"
          ]
        },
        {
          "output_type": "display_data",
          "data": {
            "text/plain": [
              "<Figure size 1200x800 with 1 Axes>"
            ],
            "image/png": "[encoded data removed]"
          },
          "metadata": {}
        }
      ]
    },
    {
      "cell_type": "markdown",
      "source": [
        "On remarque qu’avec seulement 2 caractéristiques Fare et Age nous avons obtenu le meilleur taux de classification."
      ],
      "metadata": {
        "id": "3MTePTJjdAEb"
      }
    },
    {
      "cell_type": "code",
      "source": [
        "weights = list(relf.w_)\n",
        "weights.sort(reverse=True)\n",
        "wieghts_sorted=sorted(weights, key = lambda x:float(x))\n",
        "sorted_indices = np.argsort(relf.w_)[::-1]\n",
        "# Créer un DataFrame pour afficher les résultats\n",
        "resultsRelief = pd.DataFrame({\n",
        "    'Caractéristique': X.columns[sorted_indices],\n",
        "    'Poids': weights,\n",
        "    'Accuracy': accuraciesRelief\n",
        "})\n",
        "\n",
        "print(resultsRelief)"
      ],
      "metadata": {
        "id": "qKsf08oaGKka",
        "colab": {
          "base_uri": "https://localhost:8080/"
        },
        "outputId": "632c7a12-6b4b-4088-b2b9-8127b3a96958"
      },
      "execution_count": null,
      "outputs": [
        {
          "output_type": "stream",
          "name": "stdout",
          "text": [
            "  Caractéristique     Poids   Accuracy\n",
            "0            Fare  3.663629  73.743017\n",
            "1             Age  1.419782  65.363128\n",
            "2           SibSp  0.460000  64.804469\n",
            "3             Sex  0.400000  68.156425\n",
            "4           Parch  0.190000  69.273743\n",
            "5        Embarked  0.150000  70.949721\n",
            "6          Pclass  0.140000  70.949721\n"
          ]
        }
      ]
    },
    {
      "cell_type": "markdown",
      "source": [
        "<h1>Random Forest</h1>\n",
        "Le Random Forest est une méthode d'apprentissage supervisé utilisée tant pour la classification que pour la régression. C'est l'une des techniques les plus populaires et les plus puissantes disponibles, en raison de sa simplicité, de sa capacité à être utilisée pour plusieurs types de problèmes de prédiction, et de sa robustesse face aux ensembles de données complexes.\n",
        "\n",
        "Le random forest peut étre aussi utilisé comme méthode de séléction de caractéristiques integrée. Aprés entraînement, un coéfficient d'importance sera attribué à chacune des caractéristiques."
      ],
      "metadata": {
        "id": "vb0SnZCBqO0D"
      }
    },
    {
      "cell_type": "code",
      "source": [
        "from sklearn.ensemble import RandomForestClassifier\n",
        "\n",
        "# Créer le modèle Random Forest\n",
        "rf = RandomForestClassifier(n_estimators=100, random_state=42)\n",
        "# Entraîner le modèle\n",
        "rf.fit(X, y)\n",
        "# Obtenir les importances des caractéristiques\n",
        "importances = rf.feature_importances_\n",
        "# Trier les indices des caractéristiques par importance\n",
        "indices = np.argsort(importances)[::-1]\n",
        "# Créer un DataFrame pour afficher les résultats\n",
        "resultsRelief = pd.DataFrame({\n",
        "    'Caractéristique': X.columns[indices],\n",
        "    'importance': importances[indices],\n",
        "})\n",
        "print(resultsRelief)"
      ],
      "metadata": {
        "id": "MYaA5PdLUbhY",
        "colab": {
          "base_uri": "https://localhost:8080/"
        },
        "outputId": "7990a808-29c7-47eb-c7b2-d4dd9f6dffc2"
      },
      "execution_count": null,
      "outputs": [
        {
          "output_type": "stream",
          "name": "stdout",
          "text": [
            "  Caractéristique  importance\n",
            "0            Fare    0.266590\n",
            "1             Age    0.265045\n",
            "2             Sex    0.258585\n",
            "3          Pclass    0.087204\n",
            "4           SibSp    0.050203\n",
            "5           Parch    0.038201\n",
            "6        Embarked    0.034171\n"
          ]
        }
      ]
    },
    {
      "cell_type": "code",
      "source": [
        "accuraciesRF = []\n",
        "for i in range (1,totalFeatures + 1):\n",
        "  features_names = X.columns[indices][:i]\n",
        "  print(\"Features names: \", np.array(features_names))\n",
        "  features = X[features_names]\n",
        "  accuracy = classify(features,y)\n",
        "  accuraciesRF.append(accuracy * 100)\n",
        "\n",
        "import matplotlib.pyplot as plt\n",
        "plt.figure(figsize=(12, 8))\n",
        "plt.plot(range(1,totalFeatures + 1),accuraciesRF, marker='o', linestyle='-',color='red')\n",
        "for i, txt in enumerate(accuraciesRF):\n",
        "    plt.annotate(f\"{txt:.2f}\", (i+1, accuraciesRF[i]), textcoords=\"offset points\", xytext=(0,10), ha='center')\n",
        "\n",
        "plt.xlabel('Nombre de caractèristiques')\n",
        "plt.ylabel('Accuracy %')\n",
        "plt.title('Accuracy par concaténation de meilleures caractèristiques sélèctionnées par RF')\n",
        "plt.grid(True)\n",
        "plt.gca()\n",
        "plt.show()"
      ],
      "metadata": {
        "id": "SNfpQ8aFVGD4",
        "colab": {
          "base_uri": "https://localhost:8080/",
          "height": 1000
        },
        "outputId": "a293851d-d2a5-494f-b6fc-1516fbec61f4"
      },
      "execution_count": null,
      "outputs": [
        {
          "output_type": "stream",
          "name": "stdout",
          "text": [
            "Features names:  ['Fare']\n",
            "Accuracy: 0.7318435754189944\n",
            "Classification Report:\n",
            "               precision    recall  f1-score   support\n",
            "\n",
            "           0       0.71      0.98      0.83       117\n",
            "           1       0.89      0.26      0.40        62\n",
            "\n",
            "    accuracy                           0.73       179\n",
            "   macro avg       0.80      0.62      0.61       179\n",
            "weighted avg       0.77      0.73      0.68       179\n",
            "\n",
            "Features names:  ['Fare' 'Age']\n",
            "Accuracy: 0.7206703910614525\n",
            "Classification Report:\n",
            "               precision    recall  f1-score   support\n",
            "\n",
            "           0       0.71      0.97      0.82       117\n",
            "           1       0.83      0.24      0.38        62\n",
            "\n",
            "    accuracy                           0.72       179\n",
            "   macro avg       0.77      0.61      0.60       179\n",
            "weighted avg       0.75      0.72      0.67       179\n",
            "\n",
            "Features names:  ['Fare' 'Age' 'Sex']\n",
            "Accuracy: 0.7988826815642458\n",
            "Classification Report:\n",
            "               precision    recall  f1-score   support\n",
            "\n",
            "           0       0.84      0.85      0.85       117\n",
            "           1       0.72      0.69      0.70        62\n",
            "\n",
            "    accuracy                           0.80       179\n",
            "   macro avg       0.78      0.77      0.78       179\n",
            "weighted avg       0.80      0.80      0.80       179\n",
            "\n",
            "Features names:  ['Fare' 'Age' 'Sex' 'Pclass']\n",
            "Accuracy: 0.7988826815642458\n",
            "Classification Report:\n",
            "               precision    recall  f1-score   support\n",
            "\n",
            "           0       0.84      0.85      0.85       117\n",
            "           1       0.72      0.69      0.70        62\n",
            "\n",
            "    accuracy                           0.80       179\n",
            "   macro avg       0.78      0.77      0.78       179\n",
            "weighted avg       0.80      0.80      0.80       179\n",
            "\n",
            "Features names:  ['Fare' 'Age' 'Sex' 'Pclass' 'SibSp']\n",
            "Accuracy: 0.7988826815642458\n",
            "Classification Report:\n",
            "               precision    recall  f1-score   support\n",
            "\n",
            "           0       0.84      0.85      0.85       117\n",
            "           1       0.72      0.69      0.70        62\n",
            "\n",
            "    accuracy                           0.80       179\n",
            "   macro avg       0.78      0.77      0.78       179\n",
            "weighted avg       0.80      0.80      0.80       179\n",
            "\n",
            "Features names:  ['Fare' 'Age' 'Sex' 'Pclass' 'SibSp' 'Parch']\n",
            "Accuracy: 0.7988826815642458\n",
            "Classification Report:\n",
            "               precision    recall  f1-score   support\n",
            "\n",
            "           0       0.84      0.85      0.85       117\n",
            "           1       0.72      0.69      0.70        62\n",
            "\n",
            "    accuracy                           0.80       179\n",
            "   macro avg       0.78      0.77      0.78       179\n",
            "weighted avg       0.80      0.80      0.80       179\n",
            "\n",
            "Features names:  ['Fare' 'Age' 'Sex' 'Pclass' 'SibSp' 'Parch' 'Embarked']\n",
            "Accuracy: 0.7988826815642458\n",
            "Classification Report:\n",
            "               precision    recall  f1-score   support\n",
            "\n",
            "           0       0.84      0.85      0.85       117\n",
            "           1       0.72      0.69      0.70        62\n",
            "\n",
            "    accuracy                           0.80       179\n",
            "   macro avg       0.78      0.77      0.78       179\n",
            "weighted avg       0.80      0.80      0.80       179\n",
            "\n"
          ]
        },
        {
          "output_type": "display_data",
          "data": {
            "text/plain": [
              "<Figure size 1200x800 with 1 Axes>"
            ],
            "image/png": "[encoded data removed]"
          },
          "metadata": {}
        }
      ]
    },
    {
      "cell_type": "markdown",
      "source": [
        "On peut remarquer qu’avec seulement 2 caractéristiques Fare et Age nous avons obtenu le meilleur score de classification."
      ],
      "metadata": {
        "id": "jn3iZU0mc5Mx"
      }
    },
    {
      "cell_type": "markdown",
      "source": [
        "<H2> Etude comparative </H2>\n",
        "Dans cette partie, nous allons mener une étude comparative entre les différentes méthodes de sélection de caractéristiques afin de voir la meilleure approche à utiliser.\n",
        "Nous allons représenter graphiquement les valeurs des accuracies pour les méthodes RFE, Chi2, Relief et Random Forest (RF) en fonction de nombre de caractéristiques sélectionnées."
      ],
      "metadata": {
        "id": "9EEnByFGcFcF"
      }
    },
    {
      "cell_type": "code",
      "source": [
        "import matplotlib.pyplot as plt\n",
        "plt.figure(figsize=(12, 8))\n",
        "plt.plot(range(1,totalFeatures + 1),accuraciesRFe, marker='+', linestyle='-',color='green', label='RFE')\n",
        "plt.plot(range(1,totalFeatures + 1),accuraciesChie2, marker='x', linestyle='-',color='blue', label='Chi2')\n",
        "plt.plot(range(1,totalFeatures + 1),accuraciesRelief, marker='*', linestyle='-',color='black', label='Relief')\n",
        "plt.plot(range(1,totalFeatures + 1),accuraciesRF, marker='o', linestyle='-',color='red', label='RF')\n",
        "\n",
        "plt.xlabel('Nombre de caractèristiques')\n",
        "plt.ylabel('Accuracy %')\n",
        "plt.title('Accuracy par concaténation de meilleures caractèristiques sélèctionnées')\n",
        "plt.grid(True)\n",
        "plt.gca()\n",
        "plt.legend()\n",
        "\n",
        "# Ajuster les limites de l'axe des ordonnées pour aller de 0 à 100\n",
        "plt.ylim([0, 100])\n",
        "\n",
        "plt.show()"
      ],
      "metadata": {
        "id": "3mm0Xlorki9c",
        "colab": {
          "base_uri": "https://localhost:8080/",
          "height": 719
        },
        "outputId": "808bed88-f44c-4ce7-c677-9030be414ca5"
      },
      "execution_count": null,
      "outputs": [
        {
          "output_type": "display_data",
          "data": {
            "text/plain": [
              "<Figure size 1200x800 with 1 Axes>"
            ],
            "image/png": "[encoded data removed]"
          },
          "metadata": {}
        }
      ]
    },
    {
      "cell_type": "markdown",
      "source": [
        "<H1> Conclusion </h1>\n",
        "Cet atelier présente une vue globale des méthodes et approches de sélection des caractéristiques.\n",
        "Je vous ai présenté en détails les types de méthodes\n",
        "1.\tFilter avec les algorithmes chi2 et relief\n",
        "2.\tWrapper, avec l’algorithme RFE\n",
        "3.\tEt Embedded avec l’algorithme Random forest\n",
        "\n",
        "L’étude comparative montre que le RFE reste le meilleur entre les 4 algorithmes et que même avec une seule caractéristique sélectionnée par RFE, l’accuracy est nettement meilleure que les 3 autres algorithmes.\n",
        "\n",
        "\n",
        "\n"
      ],
      "metadata": {
        "id": "QGaEMOvrszu2"
      }
    }
  ]
}